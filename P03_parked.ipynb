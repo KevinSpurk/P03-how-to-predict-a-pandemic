{
 "cells": [
  {
   "cell_type": "code",
   "execution_count": null,
   "id": "20372458-7609-446b-bcc5-7c7e8e4cc3e3",
   "metadata": {},
   "outputs": [],
   "source": []
  },
  {
   "cell_type": "markdown",
   "id": "d5378cb6-863a-4f7c-b30a-e36444dc58e2",
   "metadata": {},
   "source": [
    "### 6.1.2. Boxcox transformation"
   ]
  },
  {
   "cell_type": "code",
   "execution_count": null,
   "id": "52d63667-bb7b-4831-af4a-a0eb9ae3c179",
   "metadata": {},
   "outputs": [],
   "source": [
    "# picking examplary data from all modelsets\n",
    "mobility_cases_1m_lag5_scaled = mobility_scaled_rf['new_cases_smoothed_per_million']['lag_5'].copy()\n",
    "\n",
    "# checking data for negative values\n",
    "mob_test_ov, mob_test_columns = value_overview(df=mobility_cases_1m_lag5_scaled['X_train'], neg_allowed=False)\n",
    "\n",
    "mob_test_ov"
   ]
  },
  {
   "cell_type": "code",
   "execution_count": null,
   "id": "d1da9a21-3a63-4fa4-9a80-f2962ea4254a",
   "metadata": {},
   "outputs": [],
   "source": [
    "\n",
    "\n",
    "# no boxcox because mostly negative values. MinMaxSclaer didnt work?\n",
    "\n"
   ]
  },
  {
   "cell_type": "code",
   "execution_count": null,
   "id": "0093b057-8c32-477f-aa07-e4494d0ff961",
   "metadata": {},
   "outputs": [],
   "source": [
    "from pyf.transform import boxcox_model_dataset\n",
    "\n",
    "# copy dataset for boxcox\n",
    "mob_boxcox = mob_test.copy()\n",
    "mob_boxcox_columns = ['retail_and_recreation','grocery_and_pharmacy','parks','transit_stations','workplaces','residential']\n"
   ]
  },
  {
   "cell_type": "code",
   "execution_count": null,
   "id": "74122f69-d821-453a-8251-8da37fcccd13",
   "metadata": {
    "tags": []
   },
   "outputs": [],
   "source": [
    "from pyf.eda import plots_continuous_var\n",
    "\n",
    "# value distribution before boxcox transformation\n",
    "plots_continuous_var(mob_boxcox['X_train'], in_columns=mob_boxcox_columns)\n"
   ]
  },
  {
   "cell_type": "code",
   "execution_count": null,
   "id": "8c4c93fc-ea84-467f-ac55-6d85fae293dc",
   "metadata": {},
   "outputs": [],
   "source": [
    "# boxcox transformation\n",
    "mob_boxcox = boxcox_model_dataset(mob_boxcox, in_columns=mob_boxcox_columns, title='RF_cases_lag7 (boxcox)')\n"
   ]
  },
  {
   "cell_type": "code",
   "execution_count": null,
   "id": "649964a3-f17f-4f1b-ae88-6f13dbcec378",
   "metadata": {},
   "outputs": [],
   "source": [
    "# model with boxcox transformed data and get evaluation metrics\n",
    "rf_boxcox, rf_boxcox_metrics = regression_model_and_evaluation(dataset=mob_boxcox, title='RF_cases_lag7 (boxcox)', model_type=RandomForestRegressor)\n"
   ]
  },
  {
   "cell_type": "code",
   "execution_count": null,
   "id": "47ded926-bb63-4c6a-8b97-ec8532c21d88",
   "metadata": {
    "tags": []
   },
   "outputs": [],
   "source": [
    "plots_continuous_var(mob_boxcox['X_train'], in_columns=mob_boxcox_columns)\n"
   ]
  },
  {
   "cell_type": "code",
   "execution_count": null,
   "id": "610a27f6-6e71-4f82-9478-5157eb824f90",
   "metadata": {},
   "outputs": [],
   "source": [
    "# performance before boxcox\n",
    "rf_scaled_metrics"
   ]
  },
  {
   "cell_type": "code",
   "execution_count": null,
   "id": "decffba1-9ac5-43ce-8d5d-95a2ec5c386a",
   "metadata": {},
   "outputs": [],
   "source": [
    "rf_boxcox_metrics"
   ]
  },
  {
   "cell_type": "code",
   "execution_count": null,
   "id": "a3f873fa-5421-4cc3-95f4-df1cf08a53b6",
   "metadata": {},
   "outputs": [],
   "source": []
  },
  {
   "cell_type": "code",
   "execution_count": null,
   "id": "d39cbcb6-9e89-4bb2-a621-a470b24145ef",
   "metadata": {},
   "outputs": [],
   "source": []
  },
  {
   "cell_type": "markdown",
   "id": "8cc710d5-bec2-4220-8f23-5d1d43cd1d4f",
   "metadata": {},
   "source": [
    "### 8.2. Evaluating best model in detail"
   ]
  },
  {
   "cell_type": "code",
   "execution_count": null,
   "id": "1d773454-5cb3-4372-9f37-0816b2559fd4",
   "metadata": {
    "tags": []
   },
   "outputs": [],
   "source": [
    "mob_unscale = mob_test.copy()\n",
    "\n",
    "# unscaling features\n",
    "# mob_unscale = invert_scaling_model_dataset(dataset=mob_unscale, in_columns=mob_scale_columns, load_transformer=stdsc_1, target=False)\n",
    "\n",
    "# unscaling target var\n",
    "# mob_unscale = invert_scaling_model_dataset(dataset=mob_unscale, load_transformer=minmax_1, target=True)\n",
    "\n",
    "# mob_unscale['X_test'].head()"
   ]
  },
  {
   "cell_type": "code",
   "execution_count": null,
   "id": "a19ae7e8-925d-4c56-93ff-768583c12118",
   "metadata": {},
   "outputs": [],
   "source": []
  },
  {
   "cell_type": "code",
   "execution_count": null,
   "id": "0b7aa1e3-6641-49fc-9b57-293bf6615e83",
   "metadata": {},
   "outputs": [],
   "source": []
  },
  {
   "cell_type": "markdown",
   "id": "7d46fbc6-4b4d-4d7f-b0e7-f03e30ef4790",
   "metadata": {},
   "source": [
    "# 9 | Conclusions"
   ]
  },
  {
   "cell_type": "code",
   "execution_count": null,
   "id": "a940305e-16ba-48b0-8da7-304d158c2c98",
   "metadata": {},
   "outputs": [],
   "source": []
  },
  {
   "cell_type": "code",
   "execution_count": null,
   "id": "369bb61a-bbc9-4613-9454-32c37da814df",
   "metadata": {},
   "outputs": [],
   "source": []
  }
 ],
 "metadata": {
  "kernelspec": {
   "display_name": "Python3Brew",
   "language": "python",
   "name": "python3brew"
  },
  "language_info": {
   "codemirror_mode": {
    "name": "ipython",
    "version": 3
   },
   "file_extension": ".py",
   "mimetype": "text/x-python",
   "name": "python",
   "nbconvert_exporter": "python",
   "pygments_lexer": "ipython3",
   "version": "3.9.4"
  }
 },
 "nbformat": 4,
 "nbformat_minor": 5
}
