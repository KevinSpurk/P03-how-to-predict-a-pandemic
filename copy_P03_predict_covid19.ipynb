{
 "cells": [
  {
   "cell_type": "markdown",
   "id": "fcb8b1b9-494e-46eb-8e9f-16534f477be4",
   "metadata": {},
   "source": [
    "# Final Project | Prediction possibilities in a pandemic \n",
    "by Kevin Spurk\n",
    "\n",
    "Text"
   ]
  },
  {
   "cell_type": "markdown",
   "id": "54a5b172-df5e-4f22-a669-504a3f1565ee",
   "metadata": {},
   "source": [
    "# Table of content\n",
    "\n",
    "1. \n",
    "2.\n",
    "3.\n",
    "..."
   ]
  },
  {
   "cell_type": "code",
   "execution_count": null,
   "id": "57fbc52f-1c69-4412-8368-09b4f47afb96",
   "metadata": {},
   "outputs": [],
   "source": []
  },
  {
   "cell_type": "markdown",
   "id": "11b26984-5214-45e0-8479-3cf65bb99f68",
   "metadata": {},
   "source": [
    "# 1 | Setup\n",
    "\n",
    "### 1.1 Libary imports"
   ]
  },
  {
   "cell_type": "code",
   "execution_count": 1,
   "id": "9467d654-ea08-4911-98b4-8259cfb76b9a",
   "metadata": {},
   "outputs": [],
   "source": [
    "import pandas as pd\n",
    "import numpy as np\n",
    "import seaborn as sns\n",
    "import matplotlib.pyplot as plt\n",
    "import scipy.stats as stats\n",
    "import math\n",
    "import random\n",
    "import datetime\n",
    "import warnings\n",
    "warnings.filterwarnings('ignore')\n",
    "\n",
    "pd.options.display.max_columns = None\n",
    "pd.set_option('max_row', None)"
   ]
  },
  {
   "cell_type": "code",
   "execution_count": null,
   "id": "6cf9da1a-18d4-4b47-90e4-17ef56c37f83",
   "metadata": {},
   "outputs": [],
   "source": []
  },
  {
   "cell_type": "markdown",
   "id": "7256ae2d-eaad-4331-94ee-1188b69b9b70",
   "metadata": {},
   "source": [
    "### 1.2 Data imports\n",
    "\n",
    "### 1.2.1 google mobility data\n",
    "\n",
    "- movement of people in different areas scales to 100 \n",
    "- the baseline is the median value, for the corresponding day of the week, during the 5-week period Jan 3–Feb 6, 2020."
   ]
  },
  {
   "cell_type": "code",
   "execution_count": 2,
   "id": "49fa8ad9-bc54-4b1f-b21a-7aed2a3c4584",
   "metadata": {},
   "outputs": [
    {
     "data": {
      "text/html": [
       "<div>\n",
       "<style scoped>\n",
       "    .dataframe tbody tr th:only-of-type {\n",
       "        vertical-align: middle;\n",
       "    }\n",
       "\n",
       "    .dataframe tbody tr th {\n",
       "        vertical-align: top;\n",
       "    }\n",
       "\n",
       "    .dataframe thead th {\n",
       "        text-align: right;\n",
       "    }\n",
       "</style>\n",
       "<table border=\"1\" class=\"dataframe\">\n",
       "  <thead>\n",
       "    <tr style=\"text-align: right;\">\n",
       "      <th></th>\n",
       "      <th>country_region_code</th>\n",
       "      <th>country_region</th>\n",
       "      <th>sub_region_1</th>\n",
       "      <th>sub_region_2</th>\n",
       "      <th>metro_area</th>\n",
       "      <th>iso_3166_2_code</th>\n",
       "      <th>census_fips_code</th>\n",
       "      <th>place_id</th>\n",
       "      <th>date</th>\n",
       "      <th>retail_and_recreation_percent_change_from_baseline</th>\n",
       "      <th>grocery_and_pharmacy_percent_change_from_baseline</th>\n",
       "      <th>parks_percent_change_from_baseline</th>\n",
       "      <th>transit_stations_percent_change_from_baseline</th>\n",
       "      <th>workplaces_percent_change_from_baseline</th>\n",
       "      <th>residential_percent_change_from_baseline</th>\n",
       "    </tr>\n",
       "  </thead>\n",
       "  <tbody>\n",
       "    <tr>\n",
       "      <th>0</th>\n",
       "      <td>AE</td>\n",
       "      <td>United Arab Emirates</td>\n",
       "      <td>NaN</td>\n",
       "      <td>NaN</td>\n",
       "      <td>NaN</td>\n",
       "      <td>NaN</td>\n",
       "      <td>NaN</td>\n",
       "      <td>ChIJvRKrsd9IXj4RpwoIwFYv0zM</td>\n",
       "      <td>2020-02-15</td>\n",
       "      <td>0.0</td>\n",
       "      <td>4.0</td>\n",
       "      <td>5.0</td>\n",
       "      <td>0.0</td>\n",
       "      <td>2.0</td>\n",
       "      <td>1.0</td>\n",
       "    </tr>\n",
       "    <tr>\n",
       "      <th>1</th>\n",
       "      <td>AE</td>\n",
       "      <td>United Arab Emirates</td>\n",
       "      <td>NaN</td>\n",
       "      <td>NaN</td>\n",
       "      <td>NaN</td>\n",
       "      <td>NaN</td>\n",
       "      <td>NaN</td>\n",
       "      <td>ChIJvRKrsd9IXj4RpwoIwFYv0zM</td>\n",
       "      <td>2020-02-16</td>\n",
       "      <td>1.0</td>\n",
       "      <td>4.0</td>\n",
       "      <td>4.0</td>\n",
       "      <td>1.0</td>\n",
       "      <td>2.0</td>\n",
       "      <td>1.0</td>\n",
       "    </tr>\n",
       "    <tr>\n",
       "      <th>2</th>\n",
       "      <td>AE</td>\n",
       "      <td>United Arab Emirates</td>\n",
       "      <td>NaN</td>\n",
       "      <td>NaN</td>\n",
       "      <td>NaN</td>\n",
       "      <td>NaN</td>\n",
       "      <td>NaN</td>\n",
       "      <td>ChIJvRKrsd9IXj4RpwoIwFYv0zM</td>\n",
       "      <td>2020-02-17</td>\n",
       "      <td>-1.0</td>\n",
       "      <td>1.0</td>\n",
       "      <td>5.0</td>\n",
       "      <td>1.0</td>\n",
       "      <td>2.0</td>\n",
       "      <td>1.0</td>\n",
       "    </tr>\n",
       "    <tr>\n",
       "      <th>3</th>\n",
       "      <td>AE</td>\n",
       "      <td>United Arab Emirates</td>\n",
       "      <td>NaN</td>\n",
       "      <td>NaN</td>\n",
       "      <td>NaN</td>\n",
       "      <td>NaN</td>\n",
       "      <td>NaN</td>\n",
       "      <td>ChIJvRKrsd9IXj4RpwoIwFYv0zM</td>\n",
       "      <td>2020-02-18</td>\n",
       "      <td>-2.0</td>\n",
       "      <td>1.0</td>\n",
       "      <td>5.0</td>\n",
       "      <td>0.0</td>\n",
       "      <td>2.0</td>\n",
       "      <td>1.0</td>\n",
       "    </tr>\n",
       "    <tr>\n",
       "      <th>4</th>\n",
       "      <td>AE</td>\n",
       "      <td>United Arab Emirates</td>\n",
       "      <td>NaN</td>\n",
       "      <td>NaN</td>\n",
       "      <td>NaN</td>\n",
       "      <td>NaN</td>\n",
       "      <td>NaN</td>\n",
       "      <td>ChIJvRKrsd9IXj4RpwoIwFYv0zM</td>\n",
       "      <td>2020-02-19</td>\n",
       "      <td>-2.0</td>\n",
       "      <td>0.0</td>\n",
       "      <td>4.0</td>\n",
       "      <td>-1.0</td>\n",
       "      <td>2.0</td>\n",
       "      <td>1.0</td>\n",
       "    </tr>\n",
       "  </tbody>\n",
       "</table>\n",
       "</div>"
      ],
      "text/plain": [
       "  country_region_code        country_region sub_region_1 sub_region_2  \\\n",
       "0                  AE  United Arab Emirates          NaN          NaN   \n",
       "1                  AE  United Arab Emirates          NaN          NaN   \n",
       "2                  AE  United Arab Emirates          NaN          NaN   \n",
       "3                  AE  United Arab Emirates          NaN          NaN   \n",
       "4                  AE  United Arab Emirates          NaN          NaN   \n",
       "\n",
       "  metro_area iso_3166_2_code  census_fips_code                     place_id  \\\n",
       "0        NaN             NaN               NaN  ChIJvRKrsd9IXj4RpwoIwFYv0zM   \n",
       "1        NaN             NaN               NaN  ChIJvRKrsd9IXj4RpwoIwFYv0zM   \n",
       "2        NaN             NaN               NaN  ChIJvRKrsd9IXj4RpwoIwFYv0zM   \n",
       "3        NaN             NaN               NaN  ChIJvRKrsd9IXj4RpwoIwFYv0zM   \n",
       "4        NaN             NaN               NaN  ChIJvRKrsd9IXj4RpwoIwFYv0zM   \n",
       "\n",
       "         date  retail_and_recreation_percent_change_from_baseline  \\\n",
       "0  2020-02-15                                                0.0    \n",
       "1  2020-02-16                                                1.0    \n",
       "2  2020-02-17                                               -1.0    \n",
       "3  2020-02-18                                               -2.0    \n",
       "4  2020-02-19                                               -2.0    \n",
       "\n",
       "   grocery_and_pharmacy_percent_change_from_baseline  \\\n",
       "0                                                4.0   \n",
       "1                                                4.0   \n",
       "2                                                1.0   \n",
       "3                                                1.0   \n",
       "4                                                0.0   \n",
       "\n",
       "   parks_percent_change_from_baseline  \\\n",
       "0                                 5.0   \n",
       "1                                 4.0   \n",
       "2                                 5.0   \n",
       "3                                 5.0   \n",
       "4                                 4.0   \n",
       "\n",
       "   transit_stations_percent_change_from_baseline  \\\n",
       "0                                            0.0   \n",
       "1                                            1.0   \n",
       "2                                            1.0   \n",
       "3                                            0.0   \n",
       "4                                           -1.0   \n",
       "\n",
       "   workplaces_percent_change_from_baseline  \\\n",
       "0                                      2.0   \n",
       "1                                      2.0   \n",
       "2                                      2.0   \n",
       "3                                      2.0   \n",
       "4                                      2.0   \n",
       "\n",
       "   residential_percent_change_from_baseline  \n",
       "0                                       1.0  \n",
       "1                                       1.0  \n",
       "2                                       1.0  \n",
       "3                                       1.0  \n",
       "4                                       1.0  "
      ]
     },
     "execution_count": 2,
     "metadata": {},
     "output_type": "execute_result"
    }
   ],
   "source": [
    "# csv import\n",
    "data_mob_global = pd.read_csv('data/mobility_google/Global_Mobility_Report.csv')\n",
    "\n",
    "data_mob_global.head()"
   ]
  },
  {
   "cell_type": "code",
   "execution_count": 3,
   "id": "876c5242-b909-4c4a-bd69-34d9e74203f1",
   "metadata": {},
   "outputs": [
    {
     "data": {
      "text/plain": [
       "(7697738, 15)"
      ]
     },
     "execution_count": 3,
     "metadata": {},
     "output_type": "execute_result"
    }
   ],
   "source": [
    "data_mob_global.shape"
   ]
  },
  {
   "cell_type": "code",
   "execution_count": 4,
   "id": "f869adf2-7ba1-478f-b404-de7f7dcae37b",
   "metadata": {},
   "outputs": [
    {
     "name": "stdout",
     "output_type": "stream",
     "text": [
      "<class 'pandas.core.frame.DataFrame'>\n",
      "RangeIndex: 7697738 entries, 0 to 7697737\n",
      "Data columns (total 15 columns):\n",
      " #   Column                                              Dtype  \n",
      "---  ------                                              -----  \n",
      " 0   country_region_code                                 object \n",
      " 1   country_region                                      object \n",
      " 2   sub_region_1                                        object \n",
      " 3   sub_region_2                                        object \n",
      " 4   metro_area                                          object \n",
      " 5   iso_3166_2_code                                     object \n",
      " 6   census_fips_code                                    float64\n",
      " 7   place_id                                            object \n",
      " 8   date                                                object \n",
      " 9   retail_and_recreation_percent_change_from_baseline  float64\n",
      " 10  grocery_and_pharmacy_percent_change_from_baseline   float64\n",
      " 11  parks_percent_change_from_baseline                  float64\n",
      " 12  transit_stations_percent_change_from_baseline       float64\n",
      " 13  workplaces_percent_change_from_baseline             float64\n",
      " 14  residential_percent_change_from_baseline            float64\n",
      "dtypes: float64(7), object(8)\n",
      "memory usage: 880.9+ MB\n"
     ]
    }
   ],
   "source": [
    "data_mob_global.info()"
   ]
  },
  {
   "cell_type": "markdown",
   "id": "896c6575-ffeb-4956-b49c-30c6cd78a658",
   "metadata": {},
   "source": [
    "**results**\n",
    "\n",
    "data contains:\n",
    "\n",
    "features to keep:"
   ]
  },
  {
   "cell_type": "code",
   "execution_count": null,
   "id": "e3e2dd12-1b5f-4ff2-9f12-43dcd00e154a",
   "metadata": {},
   "outputs": [],
   "source": []
  },
  {
   "cell_type": "markdown",
   "id": "355e6479-382b-4988-acea-26d386d464a5",
   "metadata": {},
   "source": [
    "### 1.2.2 facebook mobility data"
   ]
  },
  {
   "cell_type": "code",
   "execution_count": 5,
   "id": "fc4331a4-f79c-4b3b-a30f-80cff673e9b6",
   "metadata": {},
   "outputs": [],
   "source": [
    "# csv import\n",
    "data_mob_fb = pd.read_csv('data/mobility_fb/movement-range-2021-11-07.txt', sep='\\t')"
   ]
  },
  {
   "cell_type": "code",
   "execution_count": 6,
   "id": "3260ce9b-5048-41bb-aa0c-4281aaa729cb",
   "metadata": {},
   "outputs": [
    {
     "data": {
      "text/html": [
       "<div>\n",
       "<style scoped>\n",
       "    .dataframe tbody tr th:only-of-type {\n",
       "        vertical-align: middle;\n",
       "    }\n",
       "\n",
       "    .dataframe tbody tr th {\n",
       "        vertical-align: top;\n",
       "    }\n",
       "\n",
       "    .dataframe thead th {\n",
       "        text-align: right;\n",
       "    }\n",
       "</style>\n",
       "<table border=\"1\" class=\"dataframe\">\n",
       "  <thead>\n",
       "    <tr style=\"text-align: right;\">\n",
       "      <th></th>\n",
       "      <th>ds</th>\n",
       "      <th>country</th>\n",
       "      <th>polygon_source</th>\n",
       "      <th>polygon_id</th>\n",
       "      <th>polygon_name</th>\n",
       "      <th>all_day_bing_tiles_visited_relative_change</th>\n",
       "      <th>all_day_ratio_single_tile_users</th>\n",
       "      <th>baseline_name</th>\n",
       "      <th>baseline_type</th>\n",
       "    </tr>\n",
       "  </thead>\n",
       "  <tbody>\n",
       "    <tr>\n",
       "      <th>0</th>\n",
       "      <td>2021-01-01</td>\n",
       "      <td>AGO</td>\n",
       "      <td>GADM</td>\n",
       "      <td>AGO.10.10_1</td>\n",
       "      <td>Lubango</td>\n",
       "      <td>-0.35291</td>\n",
       "      <td>0.25398</td>\n",
       "      <td>full_february</td>\n",
       "      <td>DAY_OF_WEEK</td>\n",
       "    </tr>\n",
       "    <tr>\n",
       "      <th>1</th>\n",
       "      <td>2021-01-02</td>\n",
       "      <td>AGO</td>\n",
       "      <td>GADM</td>\n",
       "      <td>AGO.10.10_1</td>\n",
       "      <td>Lubango</td>\n",
       "      <td>-0.06131</td>\n",
       "      <td>0.17330</td>\n",
       "      <td>full_february</td>\n",
       "      <td>DAY_OF_WEEK</td>\n",
       "    </tr>\n",
       "    <tr>\n",
       "      <th>2</th>\n",
       "      <td>2021-01-03</td>\n",
       "      <td>AGO</td>\n",
       "      <td>GADM</td>\n",
       "      <td>AGO.10.10_1</td>\n",
       "      <td>Lubango</td>\n",
       "      <td>-0.00392</td>\n",
       "      <td>0.21932</td>\n",
       "      <td>full_february</td>\n",
       "      <td>DAY_OF_WEEK</td>\n",
       "    </tr>\n",
       "    <tr>\n",
       "      <th>3</th>\n",
       "      <td>2021-01-04</td>\n",
       "      <td>AGO</td>\n",
       "      <td>GADM</td>\n",
       "      <td>AGO.10.10_1</td>\n",
       "      <td>Lubango</td>\n",
       "      <td>0.15114</td>\n",
       "      <td>0.11662</td>\n",
       "      <td>full_february</td>\n",
       "      <td>DAY_OF_WEEK</td>\n",
       "    </tr>\n",
       "    <tr>\n",
       "      <th>4</th>\n",
       "      <td>2021-01-05</td>\n",
       "      <td>AGO</td>\n",
       "      <td>GADM</td>\n",
       "      <td>AGO.10.10_1</td>\n",
       "      <td>Lubango</td>\n",
       "      <td>0.12696</td>\n",
       "      <td>0.10832</td>\n",
       "      <td>full_february</td>\n",
       "      <td>DAY_OF_WEEK</td>\n",
       "    </tr>\n",
       "  </tbody>\n",
       "</table>\n",
       "</div>"
      ],
      "text/plain": [
       "           ds country polygon_source   polygon_id polygon_name  \\\n",
       "0  2021-01-01     AGO           GADM  AGO.10.10_1      Lubango   \n",
       "1  2021-01-02     AGO           GADM  AGO.10.10_1      Lubango   \n",
       "2  2021-01-03     AGO           GADM  AGO.10.10_1      Lubango   \n",
       "3  2021-01-04     AGO           GADM  AGO.10.10_1      Lubango   \n",
       "4  2021-01-05     AGO           GADM  AGO.10.10_1      Lubango   \n",
       "\n",
       "   all_day_bing_tiles_visited_relative_change  \\\n",
       "0                                    -0.35291   \n",
       "1                                    -0.06131   \n",
       "2                                    -0.00392   \n",
       "3                                     0.15114   \n",
       "4                                     0.12696   \n",
       "\n",
       "   all_day_ratio_single_tile_users  baseline_name baseline_type  \n",
       "0                          0.25398  full_february   DAY_OF_WEEK  \n",
       "1                          0.17330  full_february   DAY_OF_WEEK  \n",
       "2                          0.21932  full_february   DAY_OF_WEEK  \n",
       "3                          0.11662  full_february   DAY_OF_WEEK  \n",
       "4                          0.10832  full_february   DAY_OF_WEEK  "
      ]
     },
     "execution_count": 6,
     "metadata": {},
     "output_type": "execute_result"
    }
   ],
   "source": [
    "data_mob_fb.head()"
   ]
  },
  {
   "cell_type": "code",
   "execution_count": 7,
   "id": "2720ce01-93d1-46ba-a1a5-7a12e6f6423c",
   "metadata": {},
   "outputs": [
    {
     "data": {
      "text/plain": [
       "(4568692, 9)"
      ]
     },
     "execution_count": 7,
     "metadata": {},
     "output_type": "execute_result"
    }
   ],
   "source": [
    "data_mob_fb.shape"
   ]
  },
  {
   "cell_type": "code",
   "execution_count": 8,
   "id": "828920b0-1b54-4811-b2e4-af4cd77bf8db",
   "metadata": {},
   "outputs": [
    {
     "name": "stdout",
     "output_type": "stream",
     "text": [
      "<class 'pandas.core.frame.DataFrame'>\n",
      "RangeIndex: 4568692 entries, 0 to 4568691\n",
      "Data columns (total 9 columns):\n",
      " #   Column                                      Dtype  \n",
      "---  ------                                      -----  \n",
      " 0   ds                                          object \n",
      " 1   country                                     object \n",
      " 2   polygon_source                              object \n",
      " 3   polygon_id                                  object \n",
      " 4   polygon_name                                object \n",
      " 5   all_day_bing_tiles_visited_relative_change  float64\n",
      " 6   all_day_ratio_single_tile_users             float64\n",
      " 7   baseline_name                               object \n",
      " 8   baseline_type                               object \n",
      "dtypes: float64(2), object(7)\n",
      "memory usage: 313.7+ MB\n"
     ]
    }
   ],
   "source": [
    "data_mob_fb.info()"
   ]
  },
  {
   "cell_type": "code",
   "execution_count": null,
   "id": "de617273-39c1-4a1b-b43c-2a038d98d681",
   "metadata": {},
   "outputs": [],
   "source": []
  },
  {
   "cell_type": "markdown",
   "id": "4779af5a-fb6a-4e0d-9f7b-311ac95494ed",
   "metadata": {},
   "source": [
    "### 1.2.3 google trends data"
   ]
  },
  {
   "cell_type": "code",
   "execution_count": 9,
   "id": "0d266256-ad5f-4cf2-b8c9-0a9585176bb4",
   "metadata": {},
   "outputs": [],
   "source": [
    "# connect to google and deepL APIs \n",
    "from pytrends.request import TrendReq\n",
    "from pytrends import dailydata\n",
    "from translate import Translator \n",
    "\n",
    "# get authentification for deepL API\n",
    "with open('auth/deepl_auth_key.txt') as f:\n",
    "    deepl_auth_key = f.read()\n",
    "\n",
    "# google trends API access request\n",
    "pytrends = TrendReq(hl='en-US', tz=0)"
   ]
  },
  {
   "cell_type": "code",
   "execution_count": 10,
   "id": "6495230c-4a16-46e5-827a-2011276dbfd5",
   "metadata": {},
   "outputs": [],
   "source": [
    "from pyf.apis import deepl_translate_list\n",
    "from pyf.imex import df_to_csv_format\n",
    "\n",
    "# keyword list \n",
    "keywords_list = ['covid', 'corona', 'SARS-CoV-2', 'virus', 'symptoms', 'fever', 'cough', 'tiredness', 'loss of smell', 'throat', 'shortness of breath', 'breathing issues', 'headache', 'diarrhea', 'chest pain', 'PCR', 'test', 'sick', 'infection']\n",
    "\n",
    "# dict of countries and there languages to search in\n",
    "countries_lang = {'GB': 'en', 'DE': 'de', 'FR': 'fr', 'NL': 'nl',\n",
    "                  'ES': 'es', 'PT': 'pt', 'PL': 'pl', 'IT': 'it',\n",
    "                  'AT': 'de', 'DK': 'da', 'SE': 'sv', 'GR': 'el',\n",
    "                  'CZ': 'cs'}\n",
    "\n",
    "# translating keyword list into target languages\n",
    "c19_kw_dict, c19_kw_df = deepl_translate_list(auth=deepl_auth_key, keywords=keywords_list, lang_out=countries_lang)\n",
    "\n",
    "# export translations to csv\n",
    "# df_to_csv_format(c19_kw_df, 'keywords_translations', '2')\n",
    "\n",
    "# c19_kw_df = pd.read_csv('data/multilanguage/keywords_translations_2.csv')\n"
   ]
  },
  {
   "cell_type": "code",
   "execution_count": 11,
   "id": "a3d1e082-f68e-4c81-a620-3a941d45fffb",
   "metadata": {},
   "outputs": [
    {
     "data": {
      "text/html": [
       "<div>\n",
       "<style scoped>\n",
       "    .dataframe tbody tr th:only-of-type {\n",
       "        vertical-align: middle;\n",
       "    }\n",
       "\n",
       "    .dataframe tbody tr th {\n",
       "        vertical-align: top;\n",
       "    }\n",
       "\n",
       "    .dataframe thead th {\n",
       "        text-align: right;\n",
       "    }\n",
       "</style>\n",
       "<table border=\"1\" class=\"dataframe\">\n",
       "  <thead>\n",
       "    <tr style=\"text-align: right;\">\n",
       "      <th></th>\n",
       "      <th>GB</th>\n",
       "      <th>DE</th>\n",
       "      <th>FR</th>\n",
       "      <th>NL</th>\n",
       "      <th>ES</th>\n",
       "      <th>PT</th>\n",
       "      <th>PL</th>\n",
       "      <th>IT</th>\n",
       "      <th>AT</th>\n",
       "      <th>DK</th>\n",
       "      <th>SE</th>\n",
       "      <th>GR</th>\n",
       "      <th>CZ</th>\n",
       "    </tr>\n",
       "  </thead>\n",
       "  <tbody>\n",
       "    <tr>\n",
       "      <th>0</th>\n",
       "      <td>covid</td>\n",
       "      <td>covid</td>\n",
       "      <td>covide</td>\n",
       "      <td>covid</td>\n",
       "      <td>covid</td>\n",
       "      <td>covid</td>\n",
       "      <td>covid</td>\n",
       "      <td>covid</td>\n",
       "      <td>covid</td>\n",
       "      <td>covid</td>\n",
       "      <td>covid</td>\n",
       "      <td>covid</td>\n",
       "      <td>covid</td>\n",
       "    </tr>\n",
       "    <tr>\n",
       "      <th>1</th>\n",
       "      <td>corona</td>\n",
       "      <td>corona</td>\n",
       "      <td>corona</td>\n",
       "      <td>corona</td>\n",
       "      <td>corona</td>\n",
       "      <td>corona</td>\n",
       "      <td>korona</td>\n",
       "      <td>corona</td>\n",
       "      <td>corona</td>\n",
       "      <td>corona</td>\n",
       "      <td>corona</td>\n",
       "      <td>corona</td>\n",
       "      <td>corona</td>\n",
       "    </tr>\n",
       "    <tr>\n",
       "      <th>2</th>\n",
       "      <td>SARS-CoV-2</td>\n",
       "      <td>SARS-CoV-2</td>\n",
       "      <td>SRAS-CoV-2</td>\n",
       "      <td>SARS-CoV-2</td>\n",
       "      <td>SARS-CoV-2</td>\n",
       "      <td>SRA-CoV-2</td>\n",
       "      <td>SARS-CoV-2</td>\n",
       "      <td>SARS-CoV-2</td>\n",
       "      <td>SARS-CoV-2</td>\n",
       "      <td>SARS-CoV-2</td>\n",
       "      <td>SARS-CoV-2</td>\n",
       "      <td>SARS-CoV-2</td>\n",
       "      <td>SARS-CoV-2</td>\n",
       "    </tr>\n",
       "    <tr>\n",
       "      <th>3</th>\n",
       "      <td>virus</td>\n",
       "      <td>Virus</td>\n",
       "      <td>virus</td>\n",
       "      <td>virus</td>\n",
       "      <td>virus</td>\n",
       "      <td>vírus</td>\n",
       "      <td>wirus</td>\n",
       "      <td>virus</td>\n",
       "      <td>Virus</td>\n",
       "      <td>virus</td>\n",
       "      <td>virus</td>\n",
       "      <td>ιός</td>\n",
       "      <td>virus</td>\n",
       "    </tr>\n",
       "    <tr>\n",
       "      <th>4</th>\n",
       "      <td>symptoms</td>\n",
       "      <td>Symptome</td>\n",
       "      <td>symptômes</td>\n",
       "      <td>symptomen</td>\n",
       "      <td>síntomas</td>\n",
       "      <td>sintomas</td>\n",
       "      <td>objawy</td>\n",
       "      <td>sintomi</td>\n",
       "      <td>Symptome</td>\n",
       "      <td>symptomer</td>\n",
       "      <td>symtom</td>\n",
       "      <td>συμπτώματα</td>\n",
       "      <td>příznaky</td>\n",
       "    </tr>\n",
       "    <tr>\n",
       "      <th>5</th>\n",
       "      <td>fever</td>\n",
       "      <td>Fieber</td>\n",
       "      <td>fièvre</td>\n",
       "      <td>koorts</td>\n",
       "      <td>fiebre</td>\n",
       "      <td>febre</td>\n",
       "      <td>gorączka</td>\n",
       "      <td>febbre</td>\n",
       "      <td>Fieber</td>\n",
       "      <td>feber</td>\n",
       "      <td>feber</td>\n",
       "      <td>πυρετός</td>\n",
       "      <td>horečka</td>\n",
       "    </tr>\n",
       "    <tr>\n",
       "      <th>6</th>\n",
       "      <td>cough</td>\n",
       "      <td>Husten</td>\n",
       "      <td>toux</td>\n",
       "      <td>hoest</td>\n",
       "      <td>toser</td>\n",
       "      <td>tosse</td>\n",
       "      <td>kaszel</td>\n",
       "      <td>tosse</td>\n",
       "      <td>Husten</td>\n",
       "      <td>hoste</td>\n",
       "      <td>hosta</td>\n",
       "      <td>βήχας</td>\n",
       "      <td>kašel</td>\n",
       "    </tr>\n",
       "    <tr>\n",
       "      <th>7</th>\n",
       "      <td>tiredness</td>\n",
       "      <td>Müdigkeit</td>\n",
       "      <td>fatigue</td>\n",
       "      <td>vermoeidheid</td>\n",
       "      <td>cansancio</td>\n",
       "      <td>cansaço</td>\n",
       "      <td>zmęczenie</td>\n",
       "      <td>stanchezza</td>\n",
       "      <td>Müdigkeit</td>\n",
       "      <td>træthed</td>\n",
       "      <td>trötthet</td>\n",
       "      <td>κούραση</td>\n",
       "      <td>únava</td>\n",
       "    </tr>\n",
       "    <tr>\n",
       "      <th>8</th>\n",
       "      <td>loss of smell</td>\n",
       "      <td>Geruchsverlust</td>\n",
       "      <td>la perte de l'odorat</td>\n",
       "      <td>verlies van reukzin</td>\n",
       "      <td>pérdida del olfato</td>\n",
       "      <td>perda do olfacto</td>\n",
       "      <td>utrata węchu</td>\n",
       "      <td>perdita dell'olfatto</td>\n",
       "      <td>Geruchsverlust</td>\n",
       "      <td>tab af lugt</td>\n",
       "      <td>förlust av lukt</td>\n",
       "      <td>απώλεια οσμής</td>\n",
       "      <td>ztráta čichu</td>\n",
       "    </tr>\n",
       "    <tr>\n",
       "      <th>9</th>\n",
       "      <td>throat</td>\n",
       "      <td>Kehle</td>\n",
       "      <td>gorge</td>\n",
       "      <td>keel</td>\n",
       "      <td>garganta</td>\n",
       "      <td>garganta</td>\n",
       "      <td>gardło</td>\n",
       "      <td>gola</td>\n",
       "      <td>Kehle</td>\n",
       "      <td>hals</td>\n",
       "      <td>hals</td>\n",
       "      <td>λαιμός</td>\n",
       "      <td>krk</td>\n",
       "    </tr>\n",
       "    <tr>\n",
       "      <th>10</th>\n",
       "      <td>shortness of breath</td>\n",
       "      <td>Kurzatmigkeit</td>\n",
       "      <td>l'essoufflement</td>\n",
       "      <td>kortademigheid</td>\n",
       "      <td>falta de aliento</td>\n",
       "      <td>respiração ofegante</td>\n",
       "      <td>duszność</td>\n",
       "      <td>mancanza di respiro</td>\n",
       "      <td>Kurzatmigkeit</td>\n",
       "      <td>åndenød</td>\n",
       "      <td>andfåddhet</td>\n",
       "      <td>δύσπνοια</td>\n",
       "      <td>dušnost</td>\n",
       "    </tr>\n",
       "    <tr>\n",
       "      <th>11</th>\n",
       "      <td>breathing issues</td>\n",
       "      <td>Atmungsprobleme</td>\n",
       "      <td>problèmes respiratoires</td>\n",
       "      <td>ademhalingsproblemen</td>\n",
       "      <td>problemas respiratorios</td>\n",
       "      <td>problemas respiratórios</td>\n",
       "      <td>problemy z oddychaniem</td>\n",
       "      <td>problemi di respirazione</td>\n",
       "      <td>Atmungsprobleme</td>\n",
       "      <td>vejrtrækningsproblemer</td>\n",
       "      <td>andningsproblem</td>\n",
       "      <td>αναπνευστικά προβλήματα</td>\n",
       "      <td>problémy s dýcháním</td>\n",
       "    </tr>\n",
       "    <tr>\n",
       "      <th>12</th>\n",
       "      <td>headache</td>\n",
       "      <td>Kopfschmerzen</td>\n",
       "      <td>maux de tête</td>\n",
       "      <td>hoofdpijn</td>\n",
       "      <td>dolor de cabeza</td>\n",
       "      <td>dor de cabeça</td>\n",
       "      <td>ból głowy</td>\n",
       "      <td>mal di testa</td>\n",
       "      <td>Kopfschmerzen</td>\n",
       "      <td>hovedpine</td>\n",
       "      <td>huvudvärk</td>\n",
       "      <td>πονοκέφαλος</td>\n",
       "      <td>bolest hlavy</td>\n",
       "    </tr>\n",
       "    <tr>\n",
       "      <th>13</th>\n",
       "      <td>diarrhea</td>\n",
       "      <td>Diarrhöe</td>\n",
       "      <td>diarrhée</td>\n",
       "      <td>diarree</td>\n",
       "      <td>diarrea</td>\n",
       "      <td>diarréia</td>\n",
       "      <td>biegunka</td>\n",
       "      <td>diarrea</td>\n",
       "      <td>Diarrhöe</td>\n",
       "      <td>diarré</td>\n",
       "      <td>diarré</td>\n",
       "      <td>διάρροια</td>\n",
       "      <td>průjem</td>\n",
       "    </tr>\n",
       "    <tr>\n",
       "      <th>14</th>\n",
       "      <td>chest pain</td>\n",
       "      <td>Brustschmerzen</td>\n",
       "      <td>douleur à la poitrine</td>\n",
       "      <td>pijn op de borst</td>\n",
       "      <td>dolor en el pecho</td>\n",
       "      <td>dores no peito</td>\n",
       "      <td>ból w klatce piersiowej</td>\n",
       "      <td>dolore al petto</td>\n",
       "      <td>Brustschmerzen</td>\n",
       "      <td>smerter i brystet</td>\n",
       "      <td>bröstsmärta</td>\n",
       "      <td>πόνος στο στήθος</td>\n",
       "      <td>bolest na hrudi</td>\n",
       "    </tr>\n",
       "    <tr>\n",
       "      <th>15</th>\n",
       "      <td>PCR</td>\n",
       "      <td>PCR</td>\n",
       "      <td>PCR</td>\n",
       "      <td>PCR</td>\n",
       "      <td>PCR</td>\n",
       "      <td>PCR</td>\n",
       "      <td>PCR</td>\n",
       "      <td>PCR</td>\n",
       "      <td>PCR</td>\n",
       "      <td>PCR</td>\n",
       "      <td>PCR</td>\n",
       "      <td>PCR</td>\n",
       "      <td>PCR</td>\n",
       "    </tr>\n",
       "    <tr>\n",
       "      <th>16</th>\n",
       "      <td>test</td>\n",
       "      <td>Test</td>\n",
       "      <td>test</td>\n",
       "      <td>test</td>\n",
       "      <td>prueba</td>\n",
       "      <td>teste</td>\n",
       "      <td>test</td>\n",
       "      <td>prova</td>\n",
       "      <td>Test</td>\n",
       "      <td>test</td>\n",
       "      <td>test</td>\n",
       "      <td>δοκιμή</td>\n",
       "      <td>test</td>\n",
       "    </tr>\n",
       "    <tr>\n",
       "      <th>17</th>\n",
       "      <td>sick</td>\n",
       "      <td>krank</td>\n",
       "      <td>malade</td>\n",
       "      <td>ziek</td>\n",
       "      <td>enfermo</td>\n",
       "      <td>doente</td>\n",
       "      <td>chory</td>\n",
       "      <td>malato</td>\n",
       "      <td>krank</td>\n",
       "      <td>syg</td>\n",
       "      <td>sjukt</td>\n",
       "      <td>άρρωστος</td>\n",
       "      <td>nemocný</td>\n",
       "    </tr>\n",
       "    <tr>\n",
       "      <th>18</th>\n",
       "      <td>infection</td>\n",
       "      <td>Infektion</td>\n",
       "      <td>infection</td>\n",
       "      <td>infectie</td>\n",
       "      <td>infección</td>\n",
       "      <td>infecção</td>\n",
       "      <td>infekcja</td>\n",
       "      <td>infezione</td>\n",
       "      <td>Infektion</td>\n",
       "      <td>infektion</td>\n",
       "      <td>infektion</td>\n",
       "      <td>μόλυνση</td>\n",
       "      <td>infekce</td>\n",
       "    </tr>\n",
       "  </tbody>\n",
       "</table>\n",
       "</div>"
      ],
      "text/plain": [
       "                     GB               DE                       FR  \\\n",
       "0                 covid            covid                   covide   \n",
       "1                corona           corona                   corona   \n",
       "2            SARS-CoV-2       SARS-CoV-2               SRAS-CoV-2   \n",
       "3                 virus            Virus                    virus   \n",
       "4              symptoms         Symptome                symptômes   \n",
       "5                 fever           Fieber                   fièvre   \n",
       "6                 cough           Husten                     toux   \n",
       "7             tiredness        Müdigkeit                  fatigue   \n",
       "8         loss of smell   Geruchsverlust     la perte de l'odorat   \n",
       "9                throat            Kehle                    gorge   \n",
       "10  shortness of breath    Kurzatmigkeit          l'essoufflement   \n",
       "11     breathing issues  Atmungsprobleme  problèmes respiratoires   \n",
       "12             headache    Kopfschmerzen             maux de tête   \n",
       "13             diarrhea         Diarrhöe                 diarrhée   \n",
       "14           chest pain   Brustschmerzen    douleur à la poitrine   \n",
       "15                  PCR              PCR                      PCR   \n",
       "16                 test             Test                     test   \n",
       "17                 sick            krank                   malade   \n",
       "18            infection        Infektion                infection   \n",
       "\n",
       "                      NL                       ES                       PT  \\\n",
       "0                  covid                    covid                    covid   \n",
       "1                 corona                   corona                   corona   \n",
       "2             SARS-CoV-2               SARS-CoV-2                SRA-CoV-2   \n",
       "3                  virus                    virus                    vírus   \n",
       "4              symptomen                 síntomas                 sintomas   \n",
       "5                 koorts                   fiebre                    febre   \n",
       "6                  hoest                    toser                    tosse   \n",
       "7           vermoeidheid                cansancio                  cansaço   \n",
       "8    verlies van reukzin       pérdida del olfato         perda do olfacto   \n",
       "9                   keel                 garganta                 garganta   \n",
       "10        kortademigheid         falta de aliento      respiração ofegante   \n",
       "11  ademhalingsproblemen  problemas respiratorios  problemas respiratórios   \n",
       "12             hoofdpijn          dolor de cabeza            dor de cabeça   \n",
       "13               diarree                  diarrea                 diarréia   \n",
       "14      pijn op de borst        dolor en el pecho           dores no peito   \n",
       "15                   PCR                      PCR                      PCR   \n",
       "16                  test                   prueba                    teste   \n",
       "17                  ziek                  enfermo                   doente   \n",
       "18              infectie                infección                 infecção   \n",
       "\n",
       "                         PL                        IT               AT  \\\n",
       "0                     covid                     covid            covid   \n",
       "1                    korona                    corona           corona   \n",
       "2                SARS-CoV-2                SARS-CoV-2       SARS-CoV-2   \n",
       "3                     wirus                     virus            Virus   \n",
       "4                    objawy                   sintomi         Symptome   \n",
       "5                  gorączka                    febbre           Fieber   \n",
       "6                    kaszel                     tosse           Husten   \n",
       "7                 zmęczenie                stanchezza        Müdigkeit   \n",
       "8              utrata węchu      perdita dell'olfatto   Geruchsverlust   \n",
       "9                    gardło                      gola            Kehle   \n",
       "10                 duszność       mancanza di respiro    Kurzatmigkeit   \n",
       "11   problemy z oddychaniem  problemi di respirazione  Atmungsprobleme   \n",
       "12                ból głowy              mal di testa    Kopfschmerzen   \n",
       "13                 biegunka                   diarrea         Diarrhöe   \n",
       "14  ból w klatce piersiowej           dolore al petto   Brustschmerzen   \n",
       "15                      PCR                       PCR              PCR   \n",
       "16                     test                     prova             Test   \n",
       "17                    chory                    malato            krank   \n",
       "18                 infekcja                 infezione        Infektion   \n",
       "\n",
       "                        DK               SE                       GR  \\\n",
       "0                    covid            covid                    covid   \n",
       "1                   corona           corona                   corona   \n",
       "2               SARS-CoV-2       SARS-CoV-2               SARS-CoV-2   \n",
       "3                    virus            virus                      ιός   \n",
       "4                symptomer           symtom               συμπτώματα   \n",
       "5                    feber            feber                  πυρετός   \n",
       "6                    hoste            hosta                    βήχας   \n",
       "7                  træthed         trötthet                  κούραση   \n",
       "8              tab af lugt  förlust av lukt            απώλεια οσμής   \n",
       "9                     hals             hals                   λαιμός   \n",
       "10                 åndenød       andfåddhet                 δύσπνοια   \n",
       "11  vejrtrækningsproblemer  andningsproblem  αναπνευστικά προβλήματα   \n",
       "12               hovedpine        huvudvärk              πονοκέφαλος   \n",
       "13                  diarré           diarré                 διάρροια   \n",
       "14       smerter i brystet      bröstsmärta         πόνος στο στήθος   \n",
       "15                     PCR              PCR                      PCR   \n",
       "16                    test             test                   δοκιμή   \n",
       "17                     syg            sjukt                 άρρωστος   \n",
       "18               infektion        infektion                  μόλυνση   \n",
       "\n",
       "                     CZ  \n",
       "0                 covid  \n",
       "1                corona  \n",
       "2            SARS-CoV-2  \n",
       "3                 virus  \n",
       "4              příznaky  \n",
       "5               horečka  \n",
       "6                 kašel  \n",
       "7                 únava  \n",
       "8          ztráta čichu  \n",
       "9                   krk  \n",
       "10              dušnost  \n",
       "11  problémy s dýcháním  \n",
       "12         bolest hlavy  \n",
       "13               průjem  \n",
       "14      bolest na hrudi  \n",
       "15                  PCR  \n",
       "16                 test  \n",
       "17              nemocný  \n",
       "18              infekce  "
      ]
     },
     "execution_count": 11,
     "metadata": {},
     "output_type": "execute_result"
    }
   ],
   "source": [
    "c19_kw_df"
   ]
  },
  {
   "cell_type": "code",
   "execution_count": 12,
   "id": "056b06f7-20fe-4b3b-a9df-7dd2b1b5d51c",
   "metadata": {
    "tags": []
   },
   "outputs": [],
   "source": [
    "import time\n",
    "from datetime import date, timedelta\n",
    "from pyf.apis import g_trends_ml"
   ]
  },
  {
   "cell_type": "code",
   "execution_count": 13,
   "id": "ada47131-3eda-403b-87d1-aa38e4d6e670",
   "metadata": {
    "tags": []
   },
   "outputs": [
    {
     "name": "stdout",
     "output_type": "stream",
     "text": [
      "covid:2020-03-01 2020-03-31\n",
      "covid:2020-04-01 2020-04-30\n",
      "covid:2020-05-01 2020-05-31\n",
      "covid:2020-06-01 2020-06-30\n",
      "covid:2020-07-01 2020-07-31\n",
      "covid:2020-08-01 2020-08-31\n",
      "covid:2020-09-01 2020-09-30\n",
      "covid:2020-10-01 2020-10-31\n",
      "covid:2020-11-01 2020-11-30\n",
      "covid:2020-12-01 2020-12-31\n",
      "covid:2021-01-01 2021-01-31\n",
      "covid:2021-02-01 2021-02-28\n",
      "covid:2021-03-01 2021-03-31\n",
      "covid:2021-04-01 2021-04-30\n",
      "covid:2021-05-01 2021-05-31\n",
      "covid:2021-06-01 2021-06-30\n",
      "covid:2021-07-01 2021-07-31\n",
      "covid:2021-08-01 2021-08-31\n",
      "covid:2021-09-01 2021-09-30\n",
      "covid:2021-10-01 2021-10-31\n",
      "corona:2020-03-01 2020-03-31\n",
      "corona:2020-04-01 2020-04-30\n",
      "corona:2020-05-01 2020-05-31\n",
      "corona:2020-06-01 2020-06-30\n",
      "corona:2020-07-01 2020-07-31\n",
      "corona:2020-08-01 2020-08-31\n",
      "corona:2020-09-01 2020-09-30\n",
      "corona:2020-10-01 2020-10-31\n",
      "corona:2020-11-01 2020-11-30\n",
      "corona:2020-12-01 2020-12-31\n",
      "corona:2021-01-01 2021-01-31\n",
      "corona:2021-02-01 2021-02-28\n",
      "corona:2021-03-01 2021-03-31\n",
      "corona:2021-04-01 2021-04-30\n",
      "corona:2021-05-01 2021-05-31\n",
      "corona:2021-06-01 2021-06-30\n",
      "corona:2021-07-01 2021-07-31\n",
      "corona:2021-08-01 2021-08-31\n",
      "corona:2021-09-01 2021-09-30\n",
      "corona:2021-10-01 2021-10-31\n",
      "SARS-CoV-2:2020-03-01 2020-03-31\n",
      "SARS-CoV-2:2020-04-01 2020-04-30\n",
      "SARS-CoV-2:2020-05-01 2020-05-31\n",
      "SARS-CoV-2:2020-06-01 2020-06-30\n"
     ]
    },
    {
     "ename": "ReadTimeout",
     "evalue": "HTTPSConnectionPool(host='trends.google.com', port=443): Read timed out. (read timeout=5)",
     "output_type": "error",
     "traceback": [
      "\u001b[0;31m---------------------------------------------------------------------------\u001b[0m",
      "\u001b[0;31mtimeout\u001b[0m                                   Traceback (most recent call last)",
      "\u001b[0;32m/usr/local/lib/python3.9/site-packages/urllib3/connectionpool.py\u001b[0m in \u001b[0;36m_make_request\u001b[0;34m(self, conn, method, url, timeout, chunked, **httplib_request_kw)\u001b[0m\n\u001b[1;32m    444\u001b[0m                     \u001b[0;31m# Otherwise it looks like a bug in the code.\u001b[0m\u001b[0;34m\u001b[0m\u001b[0;34m\u001b[0m\u001b[0;34m\u001b[0m\u001b[0m\n\u001b[0;32m--> 445\u001b[0;31m                     \u001b[0msix\u001b[0m\u001b[0;34m.\u001b[0m\u001b[0mraise_from\u001b[0m\u001b[0;34m(\u001b[0m\u001b[0me\u001b[0m\u001b[0;34m,\u001b[0m \u001b[0;32mNone\u001b[0m\u001b[0;34m)\u001b[0m\u001b[0;34m\u001b[0m\u001b[0;34m\u001b[0m\u001b[0m\n\u001b[0m\u001b[1;32m    446\u001b[0m         \u001b[0;32mexcept\u001b[0m \u001b[0;34m(\u001b[0m\u001b[0mSocketTimeout\u001b[0m\u001b[0;34m,\u001b[0m \u001b[0mBaseSSLError\u001b[0m\u001b[0;34m,\u001b[0m \u001b[0mSocketError\u001b[0m\u001b[0;34m)\u001b[0m \u001b[0;32mas\u001b[0m \u001b[0me\u001b[0m\u001b[0;34m:\u001b[0m\u001b[0;34m\u001b[0m\u001b[0;34m\u001b[0m\u001b[0m\n",
      "\u001b[0;32m/usr/local/lib/python3.9/site-packages/urllib3/packages/six.py\u001b[0m in \u001b[0;36mraise_from\u001b[0;34m(value, from_value)\u001b[0m\n",
      "\u001b[0;32m/usr/local/lib/python3.9/site-packages/urllib3/connectionpool.py\u001b[0m in \u001b[0;36m_make_request\u001b[0;34m(self, conn, method, url, timeout, chunked, **httplib_request_kw)\u001b[0m\n\u001b[1;32m    439\u001b[0m                 \u001b[0;32mtry\u001b[0m\u001b[0;34m:\u001b[0m\u001b[0;34m\u001b[0m\u001b[0;34m\u001b[0m\u001b[0m\n\u001b[0;32m--> 440\u001b[0;31m                     \u001b[0mhttplib_response\u001b[0m \u001b[0;34m=\u001b[0m \u001b[0mconn\u001b[0m\u001b[0;34m.\u001b[0m\u001b[0mgetresponse\u001b[0m\u001b[0;34m(\u001b[0m\u001b[0;34m)\u001b[0m\u001b[0;34m\u001b[0m\u001b[0;34m\u001b[0m\u001b[0m\n\u001b[0m\u001b[1;32m    441\u001b[0m                 \u001b[0;32mexcept\u001b[0m \u001b[0mBaseException\u001b[0m \u001b[0;32mas\u001b[0m \u001b[0me\u001b[0m\u001b[0;34m:\u001b[0m\u001b[0;34m\u001b[0m\u001b[0;34m\u001b[0m\u001b[0m\n",
      "\u001b[0;32m/usr/local/Cellar/python@3.9/3.9.4/Frameworks/Python.framework/Versions/3.9/lib/python3.9/http/client.py\u001b[0m in \u001b[0;36mgetresponse\u001b[0;34m(self)\u001b[0m\n\u001b[1;32m   1344\u001b[0m             \u001b[0;32mtry\u001b[0m\u001b[0;34m:\u001b[0m\u001b[0;34m\u001b[0m\u001b[0;34m\u001b[0m\u001b[0m\n\u001b[0;32m-> 1345\u001b[0;31m                 \u001b[0mresponse\u001b[0m\u001b[0;34m.\u001b[0m\u001b[0mbegin\u001b[0m\u001b[0;34m(\u001b[0m\u001b[0;34m)\u001b[0m\u001b[0;34m\u001b[0m\u001b[0;34m\u001b[0m\u001b[0m\n\u001b[0m\u001b[1;32m   1346\u001b[0m             \u001b[0;32mexcept\u001b[0m \u001b[0mConnectionError\u001b[0m\u001b[0;34m:\u001b[0m\u001b[0;34m\u001b[0m\u001b[0;34m\u001b[0m\u001b[0m\n",
      "\u001b[0;32m/usr/local/Cellar/python@3.9/3.9.4/Frameworks/Python.framework/Versions/3.9/lib/python3.9/http/client.py\u001b[0m in \u001b[0;36mbegin\u001b[0;34m(self)\u001b[0m\n\u001b[1;32m    306\u001b[0m         \u001b[0;32mwhile\u001b[0m \u001b[0;32mTrue\u001b[0m\u001b[0;34m:\u001b[0m\u001b[0;34m\u001b[0m\u001b[0;34m\u001b[0m\u001b[0m\n\u001b[0;32m--> 307\u001b[0;31m             \u001b[0mversion\u001b[0m\u001b[0;34m,\u001b[0m \u001b[0mstatus\u001b[0m\u001b[0;34m,\u001b[0m \u001b[0mreason\u001b[0m \u001b[0;34m=\u001b[0m \u001b[0mself\u001b[0m\u001b[0;34m.\u001b[0m\u001b[0m_read_status\u001b[0m\u001b[0;34m(\u001b[0m\u001b[0;34m)\u001b[0m\u001b[0;34m\u001b[0m\u001b[0;34m\u001b[0m\u001b[0m\n\u001b[0m\u001b[1;32m    308\u001b[0m             \u001b[0;32mif\u001b[0m \u001b[0mstatus\u001b[0m \u001b[0;34m!=\u001b[0m \u001b[0mCONTINUE\u001b[0m\u001b[0;34m:\u001b[0m\u001b[0;34m\u001b[0m\u001b[0;34m\u001b[0m\u001b[0m\n",
      "\u001b[0;32m/usr/local/Cellar/python@3.9/3.9.4/Frameworks/Python.framework/Versions/3.9/lib/python3.9/http/client.py\u001b[0m in \u001b[0;36m_read_status\u001b[0;34m(self)\u001b[0m\n\u001b[1;32m    267\u001b[0m     \u001b[0;32mdef\u001b[0m \u001b[0m_read_status\u001b[0m\u001b[0;34m(\u001b[0m\u001b[0mself\u001b[0m\u001b[0;34m)\u001b[0m\u001b[0;34m:\u001b[0m\u001b[0;34m\u001b[0m\u001b[0;34m\u001b[0m\u001b[0m\n\u001b[0;32m--> 268\u001b[0;31m         \u001b[0mline\u001b[0m \u001b[0;34m=\u001b[0m \u001b[0mstr\u001b[0m\u001b[0;34m(\u001b[0m\u001b[0mself\u001b[0m\u001b[0;34m.\u001b[0m\u001b[0mfp\u001b[0m\u001b[0;34m.\u001b[0m\u001b[0mreadline\u001b[0m\u001b[0;34m(\u001b[0m\u001b[0m_MAXLINE\u001b[0m \u001b[0;34m+\u001b[0m \u001b[0;36m1\u001b[0m\u001b[0;34m)\u001b[0m\u001b[0;34m,\u001b[0m \u001b[0;34m\"iso-8859-1\"\u001b[0m\u001b[0;34m)\u001b[0m\u001b[0;34m\u001b[0m\u001b[0;34m\u001b[0m\u001b[0m\n\u001b[0m\u001b[1;32m    269\u001b[0m         \u001b[0;32mif\u001b[0m \u001b[0mlen\u001b[0m\u001b[0;34m(\u001b[0m\u001b[0mline\u001b[0m\u001b[0;34m)\u001b[0m \u001b[0;34m>\u001b[0m \u001b[0m_MAXLINE\u001b[0m\u001b[0;34m:\u001b[0m\u001b[0;34m\u001b[0m\u001b[0;34m\u001b[0m\u001b[0m\n",
      "\u001b[0;32m/usr/local/Cellar/python@3.9/3.9.4/Frameworks/Python.framework/Versions/3.9/lib/python3.9/socket.py\u001b[0m in \u001b[0;36mreadinto\u001b[0;34m(self, b)\u001b[0m\n\u001b[1;32m    703\u001b[0m             \u001b[0;32mtry\u001b[0m\u001b[0;34m:\u001b[0m\u001b[0;34m\u001b[0m\u001b[0;34m\u001b[0m\u001b[0m\n\u001b[0;32m--> 704\u001b[0;31m                 \u001b[0;32mreturn\u001b[0m \u001b[0mself\u001b[0m\u001b[0;34m.\u001b[0m\u001b[0m_sock\u001b[0m\u001b[0;34m.\u001b[0m\u001b[0mrecv_into\u001b[0m\u001b[0;34m(\u001b[0m\u001b[0mb\u001b[0m\u001b[0;34m)\u001b[0m\u001b[0;34m\u001b[0m\u001b[0;34m\u001b[0m\u001b[0m\n\u001b[0m\u001b[1;32m    705\u001b[0m             \u001b[0;32mexcept\u001b[0m \u001b[0mtimeout\u001b[0m\u001b[0;34m:\u001b[0m\u001b[0;34m\u001b[0m\u001b[0;34m\u001b[0m\u001b[0m\n",
      "\u001b[0;32m/usr/local/Cellar/python@3.9/3.9.4/Frameworks/Python.framework/Versions/3.9/lib/python3.9/ssl.py\u001b[0m in \u001b[0;36mrecv_into\u001b[0;34m(self, buffer, nbytes, flags)\u001b[0m\n\u001b[1;32m   1240\u001b[0m                   self.__class__)\n\u001b[0;32m-> 1241\u001b[0;31m             \u001b[0;32mreturn\u001b[0m \u001b[0mself\u001b[0m\u001b[0;34m.\u001b[0m\u001b[0mread\u001b[0m\u001b[0;34m(\u001b[0m\u001b[0mnbytes\u001b[0m\u001b[0;34m,\u001b[0m \u001b[0mbuffer\u001b[0m\u001b[0;34m)\u001b[0m\u001b[0;34m\u001b[0m\u001b[0;34m\u001b[0m\u001b[0m\n\u001b[0m\u001b[1;32m   1242\u001b[0m         \u001b[0;32melse\u001b[0m\u001b[0;34m:\u001b[0m\u001b[0;34m\u001b[0m\u001b[0;34m\u001b[0m\u001b[0m\n",
      "\u001b[0;32m/usr/local/Cellar/python@3.9/3.9.4/Frameworks/Python.framework/Versions/3.9/lib/python3.9/ssl.py\u001b[0m in \u001b[0;36mread\u001b[0;34m(self, len, buffer)\u001b[0m\n\u001b[1;32m   1098\u001b[0m             \u001b[0;32mif\u001b[0m \u001b[0mbuffer\u001b[0m \u001b[0;32mis\u001b[0m \u001b[0;32mnot\u001b[0m \u001b[0;32mNone\u001b[0m\u001b[0;34m:\u001b[0m\u001b[0;34m\u001b[0m\u001b[0;34m\u001b[0m\u001b[0m\n\u001b[0;32m-> 1099\u001b[0;31m                 \u001b[0;32mreturn\u001b[0m \u001b[0mself\u001b[0m\u001b[0;34m.\u001b[0m\u001b[0m_sslobj\u001b[0m\u001b[0;34m.\u001b[0m\u001b[0mread\u001b[0m\u001b[0;34m(\u001b[0m\u001b[0mlen\u001b[0m\u001b[0;34m,\u001b[0m \u001b[0mbuffer\u001b[0m\u001b[0;34m)\u001b[0m\u001b[0;34m\u001b[0m\u001b[0;34m\u001b[0m\u001b[0m\n\u001b[0m\u001b[1;32m   1100\u001b[0m             \u001b[0;32melse\u001b[0m\u001b[0;34m:\u001b[0m\u001b[0;34m\u001b[0m\u001b[0;34m\u001b[0m\u001b[0m\n",
      "\u001b[0;31mtimeout\u001b[0m: The read operation timed out",
      "\nDuring handling of the above exception, another exception occurred:\n",
      "\u001b[0;31mReadTimeoutError\u001b[0m                          Traceback (most recent call last)",
      "\u001b[0;32m/usr/local/lib/python3.9/site-packages/requests/adapters.py\u001b[0m in \u001b[0;36msend\u001b[0;34m(self, request, stream, timeout, verify, cert, proxies)\u001b[0m\n\u001b[1;32m    438\u001b[0m             \u001b[0;32mif\u001b[0m \u001b[0;32mnot\u001b[0m \u001b[0mchunked\u001b[0m\u001b[0;34m:\u001b[0m\u001b[0;34m\u001b[0m\u001b[0;34m\u001b[0m\u001b[0m\n\u001b[0;32m--> 439\u001b[0;31m                 resp = conn.urlopen(\n\u001b[0m\u001b[1;32m    440\u001b[0m                     \u001b[0mmethod\u001b[0m\u001b[0;34m=\u001b[0m\u001b[0mrequest\u001b[0m\u001b[0;34m.\u001b[0m\u001b[0mmethod\u001b[0m\u001b[0;34m,\u001b[0m\u001b[0;34m\u001b[0m\u001b[0;34m\u001b[0m\u001b[0m\n",
      "\u001b[0;32m/usr/local/lib/python3.9/site-packages/urllib3/connectionpool.py\u001b[0m in \u001b[0;36murlopen\u001b[0;34m(self, method, url, body, headers, retries, redirect, assert_same_host, timeout, pool_timeout, release_conn, chunked, body_pos, **response_kw)\u001b[0m\n\u001b[1;32m    754\u001b[0m \u001b[0;34m\u001b[0m\u001b[0m\n\u001b[0;32m--> 755\u001b[0;31m             retries = retries.increment(\n\u001b[0m\u001b[1;32m    756\u001b[0m                 \u001b[0mmethod\u001b[0m\u001b[0;34m,\u001b[0m \u001b[0murl\u001b[0m\u001b[0;34m,\u001b[0m \u001b[0merror\u001b[0m\u001b[0;34m=\u001b[0m\u001b[0me\u001b[0m\u001b[0;34m,\u001b[0m \u001b[0m_pool\u001b[0m\u001b[0;34m=\u001b[0m\u001b[0mself\u001b[0m\u001b[0;34m,\u001b[0m \u001b[0m_stacktrace\u001b[0m\u001b[0;34m=\u001b[0m\u001b[0msys\u001b[0m\u001b[0;34m.\u001b[0m\u001b[0mexc_info\u001b[0m\u001b[0;34m(\u001b[0m\u001b[0;34m)\u001b[0m\u001b[0;34m[\u001b[0m\u001b[0;36m2\u001b[0m\u001b[0;34m]\u001b[0m\u001b[0;34m\u001b[0m\u001b[0;34m\u001b[0m\u001b[0m\n",
      "\u001b[0;32m/usr/local/lib/python3.9/site-packages/urllib3/util/retry.py\u001b[0m in \u001b[0;36mincrement\u001b[0;34m(self, method, url, response, error, _pool, _stacktrace)\u001b[0m\n\u001b[1;32m    531\u001b[0m             \u001b[0;32mif\u001b[0m \u001b[0mread\u001b[0m \u001b[0;32mis\u001b[0m \u001b[0;32mFalse\u001b[0m \u001b[0;32mor\u001b[0m \u001b[0;32mnot\u001b[0m \u001b[0mself\u001b[0m\u001b[0;34m.\u001b[0m\u001b[0m_is_method_retryable\u001b[0m\u001b[0;34m(\u001b[0m\u001b[0mmethod\u001b[0m\u001b[0;34m)\u001b[0m\u001b[0;34m:\u001b[0m\u001b[0;34m\u001b[0m\u001b[0;34m\u001b[0m\u001b[0m\n\u001b[0;32m--> 532\u001b[0;31m                 \u001b[0;32mraise\u001b[0m \u001b[0msix\u001b[0m\u001b[0;34m.\u001b[0m\u001b[0mreraise\u001b[0m\u001b[0;34m(\u001b[0m\u001b[0mtype\u001b[0m\u001b[0;34m(\u001b[0m\u001b[0merror\u001b[0m\u001b[0;34m)\u001b[0m\u001b[0;34m,\u001b[0m \u001b[0merror\u001b[0m\u001b[0;34m,\u001b[0m \u001b[0m_stacktrace\u001b[0m\u001b[0;34m)\u001b[0m\u001b[0;34m\u001b[0m\u001b[0;34m\u001b[0m\u001b[0m\n\u001b[0m\u001b[1;32m    533\u001b[0m             \u001b[0;32melif\u001b[0m \u001b[0mread\u001b[0m \u001b[0;32mis\u001b[0m \u001b[0;32mnot\u001b[0m \u001b[0;32mNone\u001b[0m\u001b[0;34m:\u001b[0m\u001b[0;34m\u001b[0m\u001b[0;34m\u001b[0m\u001b[0m\n",
      "\u001b[0;32m/usr/local/lib/python3.9/site-packages/urllib3/packages/six.py\u001b[0m in \u001b[0;36mreraise\u001b[0;34m(tp, value, tb)\u001b[0m\n\u001b[1;32m    769\u001b[0m                 \u001b[0;32mraise\u001b[0m \u001b[0mvalue\u001b[0m\u001b[0;34m.\u001b[0m\u001b[0mwith_traceback\u001b[0m\u001b[0;34m(\u001b[0m\u001b[0mtb\u001b[0m\u001b[0;34m)\u001b[0m\u001b[0;34m\u001b[0m\u001b[0;34m\u001b[0m\u001b[0m\n\u001b[0;32m--> 770\u001b[0;31m             \u001b[0;32mraise\u001b[0m \u001b[0mvalue\u001b[0m\u001b[0;34m\u001b[0m\u001b[0;34m\u001b[0m\u001b[0m\n\u001b[0m\u001b[1;32m    771\u001b[0m         \u001b[0;32mfinally\u001b[0m\u001b[0;34m:\u001b[0m\u001b[0;34m\u001b[0m\u001b[0;34m\u001b[0m\u001b[0m\n",
      "\u001b[0;32m/usr/local/lib/python3.9/site-packages/urllib3/connectionpool.py\u001b[0m in \u001b[0;36murlopen\u001b[0;34m(self, method, url, body, headers, retries, redirect, assert_same_host, timeout, pool_timeout, release_conn, chunked, body_pos, **response_kw)\u001b[0m\n\u001b[1;32m    698\u001b[0m             \u001b[0;31m# Make the request on the httplib connection object.\u001b[0m\u001b[0;34m\u001b[0m\u001b[0;34m\u001b[0m\u001b[0;34m\u001b[0m\u001b[0m\n\u001b[0;32m--> 699\u001b[0;31m             httplib_response = self._make_request(\n\u001b[0m\u001b[1;32m    700\u001b[0m                 \u001b[0mconn\u001b[0m\u001b[0;34m,\u001b[0m\u001b[0;34m\u001b[0m\u001b[0;34m\u001b[0m\u001b[0m\n",
      "\u001b[0;32m/usr/local/lib/python3.9/site-packages/urllib3/connectionpool.py\u001b[0m in \u001b[0;36m_make_request\u001b[0;34m(self, conn, method, url, timeout, chunked, **httplib_request_kw)\u001b[0m\n\u001b[1;32m    446\u001b[0m         \u001b[0;32mexcept\u001b[0m \u001b[0;34m(\u001b[0m\u001b[0mSocketTimeout\u001b[0m\u001b[0;34m,\u001b[0m \u001b[0mBaseSSLError\u001b[0m\u001b[0;34m,\u001b[0m \u001b[0mSocketError\u001b[0m\u001b[0;34m)\u001b[0m \u001b[0;32mas\u001b[0m \u001b[0me\u001b[0m\u001b[0;34m:\u001b[0m\u001b[0;34m\u001b[0m\u001b[0;34m\u001b[0m\u001b[0m\n\u001b[0;32m--> 447\u001b[0;31m             \u001b[0mself\u001b[0m\u001b[0;34m.\u001b[0m\u001b[0m_raise_timeout\u001b[0m\u001b[0;34m(\u001b[0m\u001b[0merr\u001b[0m\u001b[0;34m=\u001b[0m\u001b[0me\u001b[0m\u001b[0;34m,\u001b[0m \u001b[0murl\u001b[0m\u001b[0;34m=\u001b[0m\u001b[0murl\u001b[0m\u001b[0;34m,\u001b[0m \u001b[0mtimeout_value\u001b[0m\u001b[0;34m=\u001b[0m\u001b[0mread_timeout\u001b[0m\u001b[0;34m)\u001b[0m\u001b[0;34m\u001b[0m\u001b[0;34m\u001b[0m\u001b[0m\n\u001b[0m\u001b[1;32m    448\u001b[0m             \u001b[0;32mraise\u001b[0m\u001b[0;34m\u001b[0m\u001b[0;34m\u001b[0m\u001b[0m\n",
      "\u001b[0;32m/usr/local/lib/python3.9/site-packages/urllib3/connectionpool.py\u001b[0m in \u001b[0;36m_raise_timeout\u001b[0;34m(self, err, url, timeout_value)\u001b[0m\n\u001b[1;32m    335\u001b[0m         \u001b[0;32mif\u001b[0m \u001b[0misinstance\u001b[0m\u001b[0;34m(\u001b[0m\u001b[0merr\u001b[0m\u001b[0;34m,\u001b[0m \u001b[0mSocketTimeout\u001b[0m\u001b[0;34m)\u001b[0m\u001b[0;34m:\u001b[0m\u001b[0;34m\u001b[0m\u001b[0;34m\u001b[0m\u001b[0m\n\u001b[0;32m--> 336\u001b[0;31m             raise ReadTimeoutError(\n\u001b[0m\u001b[1;32m    337\u001b[0m                 \u001b[0mself\u001b[0m\u001b[0;34m,\u001b[0m \u001b[0murl\u001b[0m\u001b[0;34m,\u001b[0m \u001b[0;34m\"Read timed out. (read timeout=%s)\"\u001b[0m \u001b[0;34m%\u001b[0m \u001b[0mtimeout_value\u001b[0m\u001b[0;34m\u001b[0m\u001b[0;34m\u001b[0m\u001b[0m\n",
      "\u001b[0;31mReadTimeoutError\u001b[0m: HTTPSConnectionPool(host='trends.google.com', port=443): Read timed out. (read timeout=5)",
      "\nDuring handling of the above exception, another exception occurred:\n",
      "\u001b[0;31mReadTimeout\u001b[0m                               Traceback (most recent call last)",
      "\u001b[0;32m<ipython-input-13-9ce2bda9dedc>\u001b[0m in \u001b[0;36m<module>\u001b[0;34m\u001b[0m\n\u001b[1;32m     15\u001b[0m \u001b[0;34m\u001b[0m\u001b[0m\n\u001b[1;32m     16\u001b[0m \u001b[0;31m# get google trends data for keywords in all languages\u001b[0m\u001b[0;34m\u001b[0m\u001b[0;34m\u001b[0m\u001b[0;34m\u001b[0m\u001b[0m\n\u001b[0;32m---> 17\u001b[0;31m \u001b[0mc19_g_trends\u001b[0m \u001b[0;34m=\u001b[0m \u001b[0mg_trends_ml\u001b[0m\u001b[0;34m(\u001b[0m\u001b[0mkw_dict\u001b[0m\u001b[0;34m=\u001b[0m\u001b[0mc19_kw_p2\u001b[0m\u001b[0;34m,\u001b[0m \u001b[0mdt_start\u001b[0m\u001b[0;34m=\u001b[0m\u001b[0;34m'2020-03'\u001b[0m\u001b[0;34m,\u001b[0m \u001b[0mdt_end\u001b[0m\u001b[0;34m=\u001b[0m\u001b[0;34m'2021-10'\u001b[0m\u001b[0;34m,\u001b[0m \u001b[0msleep_time\u001b[0m\u001b[0;34m=\u001b[0m\u001b[0;36m800\u001b[0m\u001b[0;34m)\u001b[0m\u001b[0;34m\u001b[0m\u001b[0;34m\u001b[0m\u001b[0m\n\u001b[0m",
      "\u001b[0;32m~/Documents/DataScienceCourse/2_CourseWork/Project_Final/P03-how-to-predict-a-pandemic/pyf/apis.py\u001b[0m in \u001b[0;36mg_trends_ml\u001b[0;34m(kw_dict, dt_start, dt_end, sleep_time)\u001b[0m\n\u001b[1;32m     70\u001b[0m         \u001b[0;32mfor\u001b[0m \u001b[0mk\u001b[0m \u001b[0;32min\u001b[0m \u001b[0mkw_dict\u001b[0m\u001b[0;34m[\u001b[0m\u001b[0mgeo\u001b[0m\u001b[0;34m]\u001b[0m\u001b[0;34m:\u001b[0m\u001b[0;34m\u001b[0m\u001b[0;34m\u001b[0m\u001b[0m\n\u001b[1;32m     71\u001b[0m             \u001b[0;31m# get df with search trend for kw\u001b[0m\u001b[0;34m\u001b[0m\u001b[0;34m\u001b[0m\u001b[0;34m\u001b[0m\u001b[0m\n\u001b[0;32m---> 72\u001b[0;31m             \u001b[0mk_trend\u001b[0m \u001b[0;34m=\u001b[0m \u001b[0mdailydata\u001b[0m\u001b[0;34m.\u001b[0m\u001b[0mget_daily_data\u001b[0m\u001b[0;34m(\u001b[0m\u001b[0mk\u001b[0m\u001b[0;34m,\u001b[0m \u001b[0mint\u001b[0m\u001b[0;34m(\u001b[0m\u001b[0mdt_start\u001b[0m\u001b[0;34m.\u001b[0m\u001b[0msplit\u001b[0m\u001b[0;34m(\u001b[0m\u001b[0;34m'-'\u001b[0m\u001b[0;34m)\u001b[0m\u001b[0;34m[\u001b[0m\u001b[0;36m0\u001b[0m\u001b[0;34m]\u001b[0m\u001b[0;34m)\u001b[0m\u001b[0;34m,\u001b[0m \u001b[0mint\u001b[0m\u001b[0;34m(\u001b[0m\u001b[0mdt_start\u001b[0m\u001b[0;34m.\u001b[0m\u001b[0msplit\u001b[0m\u001b[0;34m(\u001b[0m\u001b[0;34m'-'\u001b[0m\u001b[0;34m)\u001b[0m\u001b[0;34m[\u001b[0m\u001b[0;36m1\u001b[0m\u001b[0;34m]\u001b[0m\u001b[0;34m)\u001b[0m\u001b[0;34m,\u001b[0m \u001b[0mint\u001b[0m\u001b[0;34m(\u001b[0m\u001b[0mdt_end\u001b[0m\u001b[0;34m.\u001b[0m\u001b[0msplit\u001b[0m\u001b[0;34m(\u001b[0m\u001b[0;34m'-'\u001b[0m\u001b[0;34m)\u001b[0m\u001b[0;34m[\u001b[0m\u001b[0;36m0\u001b[0m\u001b[0;34m]\u001b[0m\u001b[0;34m)\u001b[0m\u001b[0;34m,\u001b[0m \u001b[0mint\u001b[0m\u001b[0;34m(\u001b[0m\u001b[0mdt_end\u001b[0m\u001b[0;34m.\u001b[0m\u001b[0msplit\u001b[0m\u001b[0;34m(\u001b[0m\u001b[0;34m'-'\u001b[0m\u001b[0;34m)\u001b[0m\u001b[0;34m[\u001b[0m\u001b[0;36m1\u001b[0m\u001b[0;34m]\u001b[0m\u001b[0;34m)\u001b[0m\u001b[0;34m,\u001b[0m \u001b[0mgeo\u001b[0m\u001b[0;34m=\u001b[0m\u001b[0mgeo\u001b[0m\u001b[0;34m)\u001b[0m\u001b[0;34m\u001b[0m\u001b[0;34m\u001b[0m\u001b[0m\n\u001b[0m\u001b[1;32m     73\u001b[0m             \u001b[0mtime\u001b[0m\u001b[0;34m.\u001b[0m\u001b[0msleep\u001b[0m\u001b[0;34m(\u001b[0m\u001b[0msleep_time\u001b[0m\u001b[0;34m)\u001b[0m\u001b[0;34m\u001b[0m\u001b[0;34m\u001b[0m\u001b[0m\n\u001b[1;32m     74\u001b[0m \u001b[0;34m\u001b[0m\u001b[0m\n",
      "\u001b[0;32m~/Documents/DataScienceCourse/2_CourseWork/0_other_repos/mypytrends/pytrends/dailydata.py\u001b[0m in \u001b[0;36mget_daily_data\u001b[0;34m(word, start_year, start_mon, stop_year, stop_mon, geo, verbose, wait_time)\u001b[0m\n\u001b[1;32m    114\u001b[0m         \u001b[0;32mif\u001b[0m \u001b[0mverbose\u001b[0m\u001b[0;34m:\u001b[0m\u001b[0;34m\u001b[0m\u001b[0;34m\u001b[0m\u001b[0m\n\u001b[1;32m    115\u001b[0m             \u001b[0mprint\u001b[0m\u001b[0;34m(\u001b[0m\u001b[0;34mf'{word}:{timeframe}'\u001b[0m\u001b[0;34m)\u001b[0m\u001b[0;34m\u001b[0m\u001b[0;34m\u001b[0m\u001b[0m\n\u001b[0;32m--> 116\u001b[0;31m         \u001b[0mresults\u001b[0m\u001b[0;34m[\u001b[0m\u001b[0mcurrent\u001b[0m\u001b[0;34m]\u001b[0m \u001b[0;34m=\u001b[0m \u001b[0m_fetch_data\u001b[0m\u001b[0;34m(\u001b[0m\u001b[0mpytrends\u001b[0m\u001b[0;34m,\u001b[0m \u001b[0mbuild_payload\u001b[0m\u001b[0;34m,\u001b[0m \u001b[0mtimeframe\u001b[0m\u001b[0;34m)\u001b[0m\u001b[0;34m\u001b[0m\u001b[0;34m\u001b[0m\u001b[0m\n\u001b[0m\u001b[1;32m    117\u001b[0m         \u001b[0mcurrent\u001b[0m \u001b[0;34m=\u001b[0m \u001b[0mlast_date_of_month\u001b[0m \u001b[0;34m+\u001b[0m \u001b[0mtimedelta\u001b[0m\u001b[0;34m(\u001b[0m\u001b[0mdays\u001b[0m\u001b[0;34m=\u001b[0m\u001b[0;36m1\u001b[0m\u001b[0;34m)\u001b[0m\u001b[0;34m\u001b[0m\u001b[0;34m\u001b[0m\u001b[0m\n\u001b[1;32m    118\u001b[0m         \u001b[0msleep\u001b[0m\u001b[0;34m(\u001b[0m\u001b[0mwait_time\u001b[0m\u001b[0;34m)\u001b[0m  \u001b[0;31m# don't go too fast or Google will send 429s\u001b[0m\u001b[0;34m\u001b[0m\u001b[0;34m\u001b[0m\u001b[0m\n",
      "\u001b[0;32m~/Documents/DataScienceCourse/2_CourseWork/0_other_repos/mypytrends/pytrends/dailydata.py\u001b[0m in \u001b[0;36m_fetch_data\u001b[0;34m(pytrends, build_payload, timeframe)\u001b[0m\n\u001b[1;32m     44\u001b[0m         \u001b[0;32melse\u001b[0m\u001b[0;34m:\u001b[0m\u001b[0;34m\u001b[0m\u001b[0;34m\u001b[0m\u001b[0m\n\u001b[1;32m     45\u001b[0m             \u001b[0mfetched\u001b[0m \u001b[0;34m=\u001b[0m \u001b[0;32mTrue\u001b[0m\u001b[0;34m\u001b[0m\u001b[0;34m\u001b[0m\u001b[0m\n\u001b[0;32m---> 46\u001b[0;31m     \u001b[0;32mreturn\u001b[0m \u001b[0mpytrends\u001b[0m\u001b[0;34m.\u001b[0m\u001b[0minterest_over_time\u001b[0m\u001b[0;34m(\u001b[0m\u001b[0;34m)\u001b[0m\u001b[0;34m\u001b[0m\u001b[0;34m\u001b[0m\u001b[0m\n\u001b[0m\u001b[1;32m     47\u001b[0m \u001b[0;34m\u001b[0m\u001b[0m\n\u001b[1;32m     48\u001b[0m \u001b[0;34m\u001b[0m\u001b[0m\n",
      "\u001b[0;32m~/Documents/DataScienceCourse/2_CourseWork/0_other_repos/mypytrends/pytrends/request.py\u001b[0m in \u001b[0;36minterest_over_time\u001b[0;34m(self)\u001b[0m\n\u001b[1;32m    223\u001b[0m \u001b[0;34m\u001b[0m\u001b[0m\n\u001b[1;32m    224\u001b[0m         \u001b[0;31m# make the request and parse the returned json\u001b[0m\u001b[0;34m\u001b[0m\u001b[0;34m\u001b[0m\u001b[0;34m\u001b[0m\u001b[0m\n\u001b[0;32m--> 225\u001b[0;31m         req_json = self._get_data(\n\u001b[0m\u001b[1;32m    226\u001b[0m             \u001b[0murl\u001b[0m\u001b[0;34m=\u001b[0m\u001b[0mTrendReq\u001b[0m\u001b[0;34m.\u001b[0m\u001b[0mINTEREST_OVER_TIME_URL\u001b[0m\u001b[0;34m,\u001b[0m\u001b[0;34m\u001b[0m\u001b[0;34m\u001b[0m\u001b[0m\n\u001b[1;32m    227\u001b[0m             \u001b[0mmethod\u001b[0m\u001b[0;34m=\u001b[0m\u001b[0mTrendReq\u001b[0m\u001b[0;34m.\u001b[0m\u001b[0mGET_METHOD\u001b[0m\u001b[0;34m,\u001b[0m\u001b[0;34m\u001b[0m\u001b[0;34m\u001b[0m\u001b[0m\n",
      "\u001b[0;32m~/Documents/DataScienceCourse/2_CourseWork/0_other_repos/mypytrends/pytrends/request.py\u001b[0m in \u001b[0;36m_get_data\u001b[0;34m(self, url, method, trim_chars, **kwargs)\u001b[0m\n\u001b[1;32m    135\u001b[0m                               **self.requests_args)  # DO NOT USE retries or backoff_factor here\n\u001b[1;32m    136\u001b[0m         \u001b[0;32melse\u001b[0m\u001b[0;34m:\u001b[0m\u001b[0;34m\u001b[0m\u001b[0;34m\u001b[0m\u001b[0m\n\u001b[0;32m--> 137\u001b[0;31m             response = s.get(url, timeout=self.timeout, cookies=self.cookies,\n\u001b[0m\u001b[1;32m    138\u001b[0m                              **kwargs, **self.requests_args)  # DO NOT USE retries or backoff_factor here\n\u001b[1;32m    139\u001b[0m         \u001b[0;31m# check if the response contains json and throw an exception otherwise\u001b[0m\u001b[0;34m\u001b[0m\u001b[0;34m\u001b[0m\u001b[0;34m\u001b[0m\u001b[0m\n",
      "\u001b[0;32m/usr/local/lib/python3.9/site-packages/requests/sessions.py\u001b[0m in \u001b[0;36mget\u001b[0;34m(self, url, **kwargs)\u001b[0m\n\u001b[1;32m    553\u001b[0m \u001b[0;34m\u001b[0m\u001b[0m\n\u001b[1;32m    554\u001b[0m         \u001b[0mkwargs\u001b[0m\u001b[0;34m.\u001b[0m\u001b[0msetdefault\u001b[0m\u001b[0;34m(\u001b[0m\u001b[0;34m'allow_redirects'\u001b[0m\u001b[0;34m,\u001b[0m \u001b[0;32mTrue\u001b[0m\u001b[0;34m)\u001b[0m\u001b[0;34m\u001b[0m\u001b[0;34m\u001b[0m\u001b[0m\n\u001b[0;32m--> 555\u001b[0;31m         \u001b[0;32mreturn\u001b[0m \u001b[0mself\u001b[0m\u001b[0;34m.\u001b[0m\u001b[0mrequest\u001b[0m\u001b[0;34m(\u001b[0m\u001b[0;34m'GET'\u001b[0m\u001b[0;34m,\u001b[0m \u001b[0murl\u001b[0m\u001b[0;34m,\u001b[0m \u001b[0;34m**\u001b[0m\u001b[0mkwargs\u001b[0m\u001b[0;34m)\u001b[0m\u001b[0;34m\u001b[0m\u001b[0;34m\u001b[0m\u001b[0m\n\u001b[0m\u001b[1;32m    556\u001b[0m \u001b[0;34m\u001b[0m\u001b[0m\n\u001b[1;32m    557\u001b[0m     \u001b[0;32mdef\u001b[0m \u001b[0moptions\u001b[0m\u001b[0;34m(\u001b[0m\u001b[0mself\u001b[0m\u001b[0;34m,\u001b[0m \u001b[0murl\u001b[0m\u001b[0;34m,\u001b[0m \u001b[0;34m**\u001b[0m\u001b[0mkwargs\u001b[0m\u001b[0;34m)\u001b[0m\u001b[0;34m:\u001b[0m\u001b[0;34m\u001b[0m\u001b[0;34m\u001b[0m\u001b[0m\n",
      "\u001b[0;32m/usr/local/lib/python3.9/site-packages/requests/sessions.py\u001b[0m in \u001b[0;36mrequest\u001b[0;34m(self, method, url, params, data, headers, cookies, files, auth, timeout, allow_redirects, proxies, hooks, stream, verify, cert, json)\u001b[0m\n\u001b[1;32m    540\u001b[0m         }\n\u001b[1;32m    541\u001b[0m         \u001b[0msend_kwargs\u001b[0m\u001b[0;34m.\u001b[0m\u001b[0mupdate\u001b[0m\u001b[0;34m(\u001b[0m\u001b[0msettings\u001b[0m\u001b[0;34m)\u001b[0m\u001b[0;34m\u001b[0m\u001b[0;34m\u001b[0m\u001b[0m\n\u001b[0;32m--> 542\u001b[0;31m         \u001b[0mresp\u001b[0m \u001b[0;34m=\u001b[0m \u001b[0mself\u001b[0m\u001b[0;34m.\u001b[0m\u001b[0msend\u001b[0m\u001b[0;34m(\u001b[0m\u001b[0mprep\u001b[0m\u001b[0;34m,\u001b[0m \u001b[0;34m**\u001b[0m\u001b[0msend_kwargs\u001b[0m\u001b[0;34m)\u001b[0m\u001b[0;34m\u001b[0m\u001b[0;34m\u001b[0m\u001b[0m\n\u001b[0m\u001b[1;32m    543\u001b[0m \u001b[0;34m\u001b[0m\u001b[0m\n\u001b[1;32m    544\u001b[0m         \u001b[0;32mreturn\u001b[0m \u001b[0mresp\u001b[0m\u001b[0;34m\u001b[0m\u001b[0;34m\u001b[0m\u001b[0m\n",
      "\u001b[0;32m/usr/local/lib/python3.9/site-packages/requests/sessions.py\u001b[0m in \u001b[0;36msend\u001b[0;34m(self, request, **kwargs)\u001b[0m\n\u001b[1;32m    653\u001b[0m \u001b[0;34m\u001b[0m\u001b[0m\n\u001b[1;32m    654\u001b[0m         \u001b[0;31m# Send the request\u001b[0m\u001b[0;34m\u001b[0m\u001b[0;34m\u001b[0m\u001b[0;34m\u001b[0m\u001b[0m\n\u001b[0;32m--> 655\u001b[0;31m         \u001b[0mr\u001b[0m \u001b[0;34m=\u001b[0m \u001b[0madapter\u001b[0m\u001b[0;34m.\u001b[0m\u001b[0msend\u001b[0m\u001b[0;34m(\u001b[0m\u001b[0mrequest\u001b[0m\u001b[0;34m,\u001b[0m \u001b[0;34m**\u001b[0m\u001b[0mkwargs\u001b[0m\u001b[0;34m)\u001b[0m\u001b[0;34m\u001b[0m\u001b[0;34m\u001b[0m\u001b[0m\n\u001b[0m\u001b[1;32m    656\u001b[0m \u001b[0;34m\u001b[0m\u001b[0m\n\u001b[1;32m    657\u001b[0m         \u001b[0;31m# Total elapsed time of the request (approximately)\u001b[0m\u001b[0;34m\u001b[0m\u001b[0;34m\u001b[0m\u001b[0;34m\u001b[0m\u001b[0m\n",
      "\u001b[0;32m/usr/local/lib/python3.9/site-packages/requests/adapters.py\u001b[0m in \u001b[0;36msend\u001b[0;34m(self, request, stream, timeout, verify, cert, proxies)\u001b[0m\n\u001b[1;32m    527\u001b[0m                 \u001b[0;32mraise\u001b[0m \u001b[0mSSLError\u001b[0m\u001b[0;34m(\u001b[0m\u001b[0me\u001b[0m\u001b[0;34m,\u001b[0m \u001b[0mrequest\u001b[0m\u001b[0;34m=\u001b[0m\u001b[0mrequest\u001b[0m\u001b[0;34m)\u001b[0m\u001b[0;34m\u001b[0m\u001b[0;34m\u001b[0m\u001b[0m\n\u001b[1;32m    528\u001b[0m             \u001b[0;32melif\u001b[0m \u001b[0misinstance\u001b[0m\u001b[0;34m(\u001b[0m\u001b[0me\u001b[0m\u001b[0;34m,\u001b[0m \u001b[0mReadTimeoutError\u001b[0m\u001b[0;34m)\u001b[0m\u001b[0;34m:\u001b[0m\u001b[0;34m\u001b[0m\u001b[0;34m\u001b[0m\u001b[0m\n\u001b[0;32m--> 529\u001b[0;31m                 \u001b[0;32mraise\u001b[0m \u001b[0mReadTimeout\u001b[0m\u001b[0;34m(\u001b[0m\u001b[0me\u001b[0m\u001b[0;34m,\u001b[0m \u001b[0mrequest\u001b[0m\u001b[0;34m=\u001b[0m\u001b[0mrequest\u001b[0m\u001b[0;34m)\u001b[0m\u001b[0;34m\u001b[0m\u001b[0;34m\u001b[0m\u001b[0m\n\u001b[0m\u001b[1;32m    530\u001b[0m             \u001b[0;32melse\u001b[0m\u001b[0;34m:\u001b[0m\u001b[0;34m\u001b[0m\u001b[0;34m\u001b[0m\u001b[0m\n\u001b[1;32m    531\u001b[0m                 \u001b[0;32mraise\u001b[0m\u001b[0;34m\u001b[0m\u001b[0;34m\u001b[0m\u001b[0m\n",
      "\u001b[0;31mReadTimeout\u001b[0m: HTTPSConnectionPool(host='trends.google.com', port=443): Read timed out. (read timeout=5)"
     ]
    }
   ],
   "source": [
    "\n",
    "c19_kw_p2 = c19_kw_dict\n",
    "\n",
    "del c19_kw_p2['GB']\n",
    "del c19_kw_p2['DE']\n",
    "del c19_kw_p2['FR']\n",
    "del c19_kw_p2['ES']\n",
    "del c19_kw_p2['NL']\n",
    "del c19_kw_p2['PL']\n",
    "del c19_kw_p2['PT']\n",
    "del c19_kw_p2['IT']\n",
    "del c19_kw_p2['AT']\n",
    "del c19_kw_p2['DK']\n",
    "del c19_kw_p2['GR']\n",
    "del c19_kw_p2['SE']\n",
    "\n",
    "# get google trends data for keywords in all languages\n",
    "c19_g_trends = g_trends_ml(kw_dict=c19_kw_p2, dt_start='2020-03', dt_end='2021-10', sleep_time=800)\n"
   ]
  },
  {
   "cell_type": "code",
   "execution_count": null,
   "id": "21c56ce6-f493-4723-bbce-02d078c50bfe",
   "metadata": {},
   "outputs": [],
   "source": [
    "import glob\n",
    "from pyf.imex import import_concat_csv\n",
    "\n",
    "# import google trends data from csv files\n",
    "data_g_trends = import_concat_csv('data/keywords_google/', 'g_trend_2020-03_2021-10_GB')\n",
    "     "
   ]
  },
  {
   "cell_type": "code",
   "execution_count": null,
   "id": "57410acc-b175-4f8c-82de-3d1dd7c1a90c",
   "metadata": {},
   "outputs": [],
   "source": [
    "data_g_trends.head()"
   ]
  },
  {
   "cell_type": "code",
   "execution_count": null,
   "id": "5fd59347-dbca-4e47-8f59-042a678ef16f",
   "metadata": {},
   "outputs": [],
   "source": [
    "len(data_g_trends)"
   ]
  },
  {
   "cell_type": "code",
   "execution_count": null,
   "id": "a6d8306a-bab0-4002-9c26-ca3a2f4e89db",
   "metadata": {},
   "outputs": [],
   "source": []
  },
  {
   "cell_type": "code",
   "execution_count": null,
   "id": "71fb6334-eecc-4aff-b21c-3478ced48145",
   "metadata": {
    "jupyter": {
     "source_hidden": true
    },
    "tags": []
   },
   "outputs": [],
   "source": [
    "'''\n",
    "def trends_complete_timeframe(df, dt_start, dt_end, kw_listed):\n",
    "    \n",
    "    # convert input to datetime\n",
    "    dt_s = datetime.datetime.strptime(dt_start, '%Y-%m-%d').date()\n",
    "    dt_e = datetime.datetime.strptime(dt_end, '%Y-%m-%d').date()\n",
    "    # lists for missing days\n",
    "    dates_missing = []\n",
    "    trend_missing = []\n",
    "    \n",
    "    # loop to find missing dates in df\n",
    "    while dt_s <= dt_e:\n",
    "        date_check = False\n",
    "        for d in df['date']:\n",
    "            if d == dt_s:\n",
    "                date_check = True\n",
    "        # append missing date to lists\n",
    "        if date_check == False:\n",
    "            dates_missing.append(dt_s)\n",
    "            trend_missing.append(np.NaN)\n",
    "        dt_s += timedelta(days=1)\n",
    "    \n",
    "    # df for missing dates\n",
    "    df_dates_missing = pd.DataFrame({'date': dates_missing, kw_listed[0]: trend_missing})\n",
    "    df_completed = pd.concat([df, df_dates_missing], axis=0)\n",
    "    df_completed['date'] = pd.to_datetime(df_completed['date'], errors='coerce')\n",
    "    df_completed = df_completed.sort_values(by=['date'], ignore_index=True)\n",
    "    \n",
    "    return df_completed   \n",
    "\n",
    "\n",
    "def trends_df_transform(df):\n",
    "    # drop unwanted col\n",
    "    for col in df.columns:\n",
    "        if col == 'isPartial':\n",
    "            df = df.drop(['isPartial'], axis=1)\n",
    "            \n",
    "    # get date as col\n",
    "    df.reset_index(inplace=True)\n",
    "    df['date'] = df['date'].dt.date\n",
    "    \n",
    "    # group rows by date\n",
    "    df = df.groupby(['date']).mean()\n",
    "    df.reset_index(inplace=True)\n",
    "    df['date'] = df['date'].dt.date\n",
    "    \n",
    "    return df\n",
    "\n",
    "def df_to_csv_format(df, name_cst, name_var, index=False):\n",
    "    file_name = name_cst + '_' + name_var\n",
    "    df.to_csv(f'{file_name}.csv', sep=',', index=index)\n",
    "    return df\n",
    "\n",
    "\n",
    "def trends_multilang(kw_dict, dt_start, dt_end, main_lang='GB', cat=0, sleep=60):\n",
    "    # df for all results\n",
    "    trends_all = pd.DataFrame({})\n",
    "    \n",
    "    # build timeframe str for api\n",
    "    timeframe = dt_start + ' ' + dt_end\n",
    "    \n",
    "    # loop through lang\n",
    "    for geo in kw_dict.keys():\n",
    "        # df for results of one loc\n",
    "        search_trend = pd.DataFrame({})\n",
    "        # reformat kw list for sub func\n",
    "        kw_group = list(zip(*[iter(kw_dict[geo])]*1))\n",
    "        kw_listlist = [list(kw) for kw in kw_group]\n",
    "        \n",
    "        # loop through keywords\n",
    "        for k in kw_listlist:\n",
    "            # build payload\n",
    "            print(k)\n",
    "            try:\n",
    "                pytrends.build_payload(kw_list=k, cat=cat, timeframe=timeframe, geo=geo)\n",
    "                # get df with search trend for kw\n",
    "                k_trend = pytrends.get_historical_interest(k, year_start=int(dt_start.split('-')[0]), month_start=int(dt_start.split('-')[1]), day_start=int(dt_start.split('-')[2]), hour_start=0, year_end=int(dt_end.split('-')[0]), month_end=int(dt_end.split('-')[1]), day_end=int(dt_end.split('-')[2]), hour_end=23, sleep=sleep)\n",
    "                time.sleep(10)\n",
    "                print(k_trend.head())\n",
    "            except requests.exceptions.Timeout:\n",
    "                print('Timeout occured.')\n",
    "            \n",
    "            # transform df\n",
    "            k_trend = trends_df_transform(k_trend)\n",
    "            \n",
    "            # add missing dates\n",
    "            k_trend_completed = trends_complete_timeframe(df=k_trend, dt_start=dt_start, dt_end=dt_end, kw_listed=k)\n",
    "            \n",
    "            # add df with search trend for kw to df for results of one loc\n",
    "            search_trend['date'] = k_trend_completed['date']\n",
    "            search_trend[k[0]] = k_trend_completed[k[0]]\n",
    "        \n",
    "        # add loc to df \n",
    "        search_trend['loc'] = geo\n",
    "        # export df to csv\n",
    "        search_details = dt_start + '_' + dt_end + geo\n",
    "        df_to_csv_format(df=search_trend, name_cst='g_trend', name_var=search_details, index=False)\n",
    "        \n",
    "        # concat df with df holding all results\n",
    "        if len(trends_all) > 0:\n",
    "            search_details.columns = trends_all.columns\n",
    "        trends_all = pd.concat([trends_all, search_details], axis=0)\n",
    "        trends_all.reset_index(inplace=True)\n",
    "        trends_all = trends_all.sort_values(by=['date'], ignore_index=True)\n",
    "    \n",
    "    return trends_all\n",
    "'''"
   ]
  },
  {
   "cell_type": "code",
   "execution_count": null,
   "id": "b201e7e3-d8d4-455a-8418-41fe348a35f8",
   "metadata": {},
   "outputs": [],
   "source": []
  },
  {
   "cell_type": "code",
   "execution_count": null,
   "id": "760e64eb-7354-413d-a6f2-7dad1a618beb",
   "metadata": {
    "jupyter": {
     "source_hidden": true
    },
    "tags": []
   },
   "outputs": [],
   "source": [
    "'''\n",
    "date_t1 = datetime.datetime.strptime('2020-07-06', '%Y-%m-%d').date()\n",
    "exists = date_t1 in data4['date']\n",
    "exists\n",
    "'''"
   ]
  },
  {
   "cell_type": "code",
   "execution_count": null,
   "id": "72c215b9-26b7-4cf8-8f27-8759b198f460",
   "metadata": {
    "jupyter": {
     "source_hidden": true
    },
    "tags": []
   },
   "outputs": [],
   "source": [
    "'''\n",
    "while test_date_start <= test_date_end:\n",
    "    if test_date_start not in data4['date']:\n",
    "        print(test_date_start.strftime('%Y-%m-%d'))\n",
    "        test_date_start += timedelta(days=1)\n",
    "'''\n",
    "\n",
    "'''\n",
    "for i in data4['date']:\n",
    "    if i == test_date:\n",
    "        date_present = True\n",
    "    else:\n",
    "        pass\n",
    "        \n",
    "print(date_present)\n",
    "'''"
   ]
  },
  {
   "cell_type": "code",
   "execution_count": null,
   "id": "eedc3529-6d9e-4478-b5d6-ec8266282698",
   "metadata": {},
   "outputs": [],
   "source": []
  },
  {
   "cell_type": "markdown",
   "id": "dd19c0c4-f1f9-42e3-a152-0c75d433fe46",
   "metadata": {},
   "source": [
    "### 1.2.4 twitter trends data"
   ]
  },
  {
   "cell_type": "code",
   "execution_count": null,
   "id": "77da22f5-5f06-4429-afd9-4342d79d39a5",
   "metadata": {},
   "outputs": [],
   "source": [
    "import tweepy as tw \n",
    "from pyf.apis import tweepy_auth\n",
    "\n",
    "# get authentification for twitter API\n",
    "tw_api, tw_client = tweepy_auth('auth/tw_auth.txt')"
   ]
  },
  {
   "cell_type": "code",
   "execution_count": null,
   "id": "b733a317-7a9a-48d4-b827-11060c4bd3ff",
   "metadata": {},
   "outputs": [],
   "source": [
    "tweets = tw_client.get_recent_tweets_count(query='winter', granularity='day')\n",
    "tweets"
   ]
  },
  {
   "cell_type": "code",
   "execution_count": null,
   "id": "5bd5fd96-446a-4d09-84fd-790f7687af8b",
   "metadata": {},
   "outputs": [],
   "source": []
  },
  {
   "cell_type": "code",
   "execution_count": null,
   "id": "bda2022e-a123-4238-b3c7-2aed06bf811e",
   "metadata": {},
   "outputs": [],
   "source": [
    "# import requests\n",
    "# import json"
   ]
  },
  {
   "cell_type": "code",
   "execution_count": null,
   "id": "551d270a-9316-4986-83b5-4edf29f2c433",
   "metadata": {},
   "outputs": [],
   "source": []
  },
  {
   "cell_type": "markdown",
   "id": "a890277f-7beb-455c-89f3-aa2a5ad50b99",
   "metadata": {},
   "source": [
    "### 1.2.5 Covid-19 data"
   ]
  },
  {
   "cell_type": "code",
   "execution_count": null,
   "id": "709b0693-475d-4ba1-872d-e05957d634c4",
   "metadata": {},
   "outputs": [],
   "source": [
    "# csv import\n",
    "#data_c19_hospitalization = pd.read_csv('data/covid19/Covid19-hospital_and_ICU_admission_rates.csv')\n",
    "#data_c19_cases = pd.read_csv('data/covid19/time_series_covid19_confirmed_global.csv')\n",
    "#data_c19_deaths = pd.read_csv('data/covid19/time_series_covid19_deaths_global.csv')\n",
    "#cases_daily_historical = pd.read_csv('data/covid19/cases_daily_historical.csv')\n",
    "owid_covid_data = pd.read_csv('data/covid19/owid-covid-data.csv')"
   ]
  },
  {
   "cell_type": "code",
   "execution_count": null,
   "id": "b723ce1f-6afc-4740-8474-a14a074ea241",
   "metadata": {},
   "outputs": [],
   "source": [
    "owid_covid_data[owid_covid_data['location'] == 'Germany'].head()"
   ]
  },
  {
   "cell_type": "code",
   "execution_count": null,
   "id": "05fb7c15-a509-436d-8bf2-44c95d35de57",
   "metadata": {},
   "outputs": [],
   "source": [
    "owid_covid_data.shape"
   ]
  },
  {
   "cell_type": "code",
   "execution_count": null,
   "id": "2201aca8-2bcd-4f7a-ad9c-3a3e0b16920c",
   "metadata": {
    "tags": []
   },
   "outputs": [],
   "source": [
    "owid_covid_data.info()"
   ]
  },
  {
   "cell_type": "code",
   "execution_count": null,
   "id": "612cf778-5005-4f8d-b5f0-f65f38d559bf",
   "metadata": {},
   "outputs": [],
   "source": []
  },
  {
   "cell_type": "markdown",
   "id": "b415e047-cf5d-45b0-be95-cdbb195db1f6",
   "metadata": {},
   "source": [
    "# 2 | Data cleaning/wranging\n",
    "\n",
    "### 2.1 google mobility data "
   ]
  },
  {
   "cell_type": "markdown",
   "id": "4ff140b6-6322-4ccf-b4da-6b7c0bf2debb",
   "metadata": {},
   "source": [
    "### 2.1.1 Feature elimination"
   ]
  },
  {
   "cell_type": "code",
   "execution_count": null,
   "id": "80df0bb9-44fa-461f-b662-b51087d8b5c9",
   "metadata": {},
   "outputs": [],
   "source": [
    "# dict of countries, country codes and there languages\n",
    "tgt_countries = {'GB': ['en', 'united kingdom', 'GBR'], 'DE': ['de', 'germany', 'DEU'], 'FR': ['fr', 'france', 'FRA'], 'NL': ['nl', 'netherlands', 'NLD'],\n",
    "                 'ES': ['es', 'spain', 'ESP'], 'PT': ['pt', 'portugal', 'PRT'], 'PL': ['pl', 'poland', 'POL'], 'IT': ['it', 'italy', 'ITA'],\n",
    "                 'AT': ['de', 'austria', 'AUT'], 'DK': ['da', 'denmark', 'DNK'], 'SE': ['sv', 'sweden', 'SWE'], 'GR': ['el', 'greece', 'GRC'],\n",
    "                 'CZ': ['cs', 'czechia', 'CZE']}\n"
   ]
  },
  {
   "cell_type": "code",
   "execution_count": null,
   "id": "a438adbe-9461-49a2-8675-53198655821a",
   "metadata": {},
   "outputs": [],
   "source": [
    "# getting subset of row with data of the target countries\n",
    "countries_iso2 = [country_code for country_code in tgt_countries.keys()]\n",
    "data_g_mob = data_mob_global[data_mob_global['country_region_code'].isin(countries_iso2)]\n",
    "\n",
    "# separating national data from regional data\n",
    "data_g_mob = data_g_mob[data_g_mob['sub_region_1'].isna()]\n",
    "\n",
    "# dropping unneccessary columns\n",
    "data_g_mob = data_g_mob.drop(data_g_mob.iloc[:, 1:8], axis=1)\n"
   ]
  },
  {
   "cell_type": "code",
   "execution_count": null,
   "id": "e7065436-6ea9-4fa2-ae2d-f902740c7676",
   "metadata": {},
   "outputs": [],
   "source": []
  },
  {
   "cell_type": "markdown",
   "id": "aaa1e0c9-4906-462d-ab45-421092689e6a",
   "metadata": {},
   "source": [
    "### 2.1.2. data wrangling"
   ]
  },
  {
   "cell_type": "code",
   "execution_count": null,
   "id": "37ff08c6-affe-4238-b2f8-bf01cc277b8d",
   "metadata": {},
   "outputs": [],
   "source": [
    "# convert 'date' column to datetime\n",
    "data_g_mob['date'] = pd.to_datetime(data_g_mob['date'], errors='coerce')\n",
    "data_g_mob['date'] = data_g_mob['date'].dt.date\n",
    "\n",
    "data_g_mob['date'].isna().sum()"
   ]
  },
  {
   "cell_type": "code",
   "execution_count": null,
   "id": "e1ca40e9-8d2b-450a-8b91-c00e83cb10e3",
   "metadata": {},
   "outputs": [],
   "source": [
    "# clean column names \n",
    "data_g_mob.columns = data_g_mob.columns.str.replace('_percent_change_from_baseline', '')\n",
    "\n",
    "# rename country_region_code column\n",
    "g_mob_columns = list(data_g_mob.columns.values)\n",
    "\n",
    "g_mob_new_columns = {col:col for col in g_mob_columns}\n",
    "g_mob_new_columns['country_region_code'] = 'location'\n",
    "\n",
    "data_g_mob = data_g_mob.rename(columns=g_mob_new_columns)\n",
    "\n",
    "# rename locations into iso3 format\n",
    "for key, val in tgt_countries.items():\n",
    "    for i in range(len(data_g_mob)):\n",
    "        if key == data_g_mob['location'].iloc[i]:\n",
    "            data_g_mob['location'].iloc[i] = val[2]\n",
    "            "
   ]
  },
  {
   "cell_type": "code",
   "execution_count": null,
   "id": "d54ab90c-c3aa-4c9d-ad65-faf1b038be57",
   "metadata": {},
   "outputs": [],
   "source": [
    "from pyf.preprocessing import timeframe_check_by_group, value_overview, df_timeframe_limit, timeseries_interpolation_clustered\n",
    "\n",
    "# check if range of dates is complete for all countries\n",
    "g_mob_timeframe = timeframe_check_by_group(df=data_g_mob, groupby='location', timeframe='date')"
   ]
  },
  {
   "cell_type": "code",
   "execution_count": null,
   "id": "2c8f0328-7f8a-4d81-9bfe-f1aa722d5fc1",
   "metadata": {},
   "outputs": [],
   "source": [
    "g_mob_timeframe"
   ]
  },
  {
   "cell_type": "code",
   "execution_count": null,
   "id": "cfae66aa-05f9-471c-bfb7-aaa90ca20ace",
   "metadata": {},
   "outputs": [],
   "source": [
    "# picking only df entries between Mar 2020 and Oct 2021\n",
    "data_g_mob = df_timeframe_limit(data_g_mob, 'date', '2020-03-01', '2021-10-31')\n"
   ]
  },
  {
   "cell_type": "code",
   "execution_count": null,
   "id": "b81c580d-b58d-4fd5-9bc2-0b205a615b78",
   "metadata": {},
   "outputs": [],
   "source": [
    "g_mob_timeframe = timeframe_check_by_group(df=data_g_mob, groupby='location', timeframe='date')\n"
   ]
  },
  {
   "cell_type": "code",
   "execution_count": null,
   "id": "31321653-44e0-460a-b133-f3e229633a4b",
   "metadata": {},
   "outputs": [],
   "source": []
  },
  {
   "cell_type": "markdown",
   "id": "d4eac2de-1218-439e-b65b-98694e38d59c",
   "metadata": {},
   "source": [
    "### 2.1.3. null values"
   ]
  },
  {
   "cell_type": "code",
   "execution_count": null,
   "id": "8bbe3af8-2ca5-463b-8703-15b81f1c3c0a",
   "metadata": {},
   "outputs": [],
   "source": [
    "g_mob_ov, g_mob_columns = value_overview(df=data_g_mob, neg_allowed=True)"
   ]
  },
  {
   "cell_type": "code",
   "execution_count": null,
   "id": "07e59826-9cc3-4f75-81be-a5f3ae668907",
   "metadata": {},
   "outputs": [],
   "source": [
    "g_mob_ov"
   ]
  },
  {
   "cell_type": "code",
   "execution_count": null,
   "id": "3e28574f-15b7-465b-a3f7-33fc120f8e4c",
   "metadata": {
    "tags": []
   },
   "outputs": [],
   "source": [
    "data_g_mob[data_g_mob['grocery_and_pharmacy'].isna()]"
   ]
  },
  {
   "cell_type": "code",
   "execution_count": null,
   "id": "b6500806-967e-4a16-99a1-b16270714c3c",
   "metadata": {},
   "outputs": [],
   "source": [
    "# interpolating null values\n",
    "g_mob_full = timeseries_interpolation_clustered(df=data_g_mob, timeframe='date', cluster_by='location', method='polynomial', order=2)\n"
   ]
  },
  {
   "cell_type": "code",
   "execution_count": null,
   "id": "b97ceac8-2d52-4478-8357-28bc5707ecc3",
   "metadata": {},
   "outputs": [],
   "source": [
    "g_mob_full.isna().sum()"
   ]
  },
  {
   "cell_type": "code",
   "execution_count": null,
   "id": "c9651a22-c9a3-4e39-a291-652c8281c292",
   "metadata": {},
   "outputs": [],
   "source": []
  },
  {
   "cell_type": "markdown",
   "id": "6e325ef4-e727-4cb7-9d0f-7ca2ea09aad6",
   "metadata": {},
   "source": [
    "### 2.2 facebook mobility data\n",
    "\n",
    "### 2.2.1 feature elimination"
   ]
  },
  {
   "cell_type": "code",
   "execution_count": null,
   "id": "a0e4d3d1-91a0-42ae-9fc2-492e07ff4d8f",
   "metadata": {},
   "outputs": [],
   "source": [
    "countries_iso3 = [cn[2] for cn in tgt_countries.values()]\n",
    "data_mob_fb = data_mob_fb[data_mob_fb['country'].isin(countries_iso3)]\n"
   ]
  },
  {
   "cell_type": "code",
   "execution_count": null,
   "id": "debd2d06-bed7-409f-a05f-71bda67c2edd",
   "metadata": {},
   "outputs": [],
   "source": [
    "data_mob_fb[data_mob_fb['country'] == 'DEU']['ds'].nunique()"
   ]
  },
  {
   "cell_type": "code",
   "execution_count": null,
   "id": "12a57905-8035-40f8-905d-a1cbea227e35",
   "metadata": {},
   "outputs": [],
   "source": []
  },
  {
   "cell_type": "code",
   "execution_count": null,
   "id": "f95cd883-4c22-44d9-a47c-b399360bcdfe",
   "metadata": {},
   "outputs": [],
   "source": []
  },
  {
   "cell_type": "code",
   "execution_count": null,
   "id": "97e67224-0490-487e-992d-987706030e2f",
   "metadata": {},
   "outputs": [],
   "source": []
  },
  {
   "cell_type": "code",
   "execution_count": null,
   "id": "182bf983-eeb9-44cd-93bc-f7da168f8970",
   "metadata": {},
   "outputs": [],
   "source": []
  },
  {
   "cell_type": "markdown",
   "id": "d47b2052-3f3e-43d5-8ad1-26dfaff91537",
   "metadata": {},
   "source": [
    "### 2.3 google trends data"
   ]
  },
  {
   "cell_type": "markdown",
   "id": "6ae75c7d-52da-4100-bee8-e289de7ef283",
   "metadata": {},
   "source": [
    "### 2.1.1 Feature elimination"
   ]
  },
  {
   "cell_type": "markdown",
   "id": "da414362-f6f8-4504-84d7-4a477e6c7186",
   "metadata": {},
   "source": [
    "no feature eliminaltion\n"
   ]
  },
  {
   "cell_type": "code",
   "execution_count": null,
   "id": "099d98db-d6c4-4c90-aadf-063a0e3a9b1d",
   "metadata": {},
   "outputs": [],
   "source": []
  },
  {
   "cell_type": "markdown",
   "id": "cabd3f2a-aff1-4a96-944a-f2b35dcc8cc3",
   "metadata": {},
   "source": [
    "### 2.1.2. data wrangling"
   ]
  },
  {
   "cell_type": "code",
   "execution_count": null,
   "id": "1cb610d8-c7b9-4004-bcc3-2108685cf9fc",
   "metadata": {},
   "outputs": [],
   "source": [
    "# convert 'date' column to datetime\n",
    "data_g_trends['date'] = pd.to_datetime(data_g_trends['date'], errors='coerce')\n",
    "data_g_trends['date'] = data_g_trends['date'].dt.date\n",
    "\n",
    "data_g_trends['date'].isna().sum()"
   ]
  },
  {
   "cell_type": "code",
   "execution_count": null,
   "id": "fdc3ae5f-8544-405d-8056-dd3a5eb3c8e7",
   "metadata": {},
   "outputs": [],
   "source": [
    "from pyf.preprocessing import clean_headers\n",
    "\n",
    "# clean column names \n",
    "data_g_trends = clean_headers(data_g_trends)\n",
    "\n",
    "# rename locations into iso3 format\n",
    "for key, val in tgt_countries.items():\n",
    "    for i in range(len(data_g_trends)):\n",
    "        if key == data_g_trends['location'].iloc[i]:\n",
    "            data_g_trends['location'].iloc[i] = val[2]\n",
    "            "
   ]
  },
  {
   "cell_type": "code",
   "execution_count": null,
   "id": "3f60bb1c-bbf3-42d9-a013-94c2e814912b",
   "metadata": {},
   "outputs": [],
   "source": [
    "# check if range of dates is complete for all countries\n",
    "g_trends_timeframe = timeframe_check_by_group(df=data_g_trends, groupby='location', timeframe='date')"
   ]
  },
  {
   "cell_type": "code",
   "execution_count": null,
   "id": "f499adc7-031e-4bf0-acf3-0f924b9ab3f2",
   "metadata": {},
   "outputs": [],
   "source": []
  },
  {
   "cell_type": "markdown",
   "id": "72573cfa-9d9f-40cf-85a1-7cf32adf5275",
   "metadata": {},
   "source": [
    "### 2.1.3. null values"
   ]
  },
  {
   "cell_type": "code",
   "execution_count": null,
   "id": "87367e88-52e0-4dc5-a249-1d2390c843a2",
   "metadata": {},
   "outputs": [],
   "source": [
    "g_trends_ov, g_trends_columns = value_overview(df=data_g_trends, neg_allowed=False)"
   ]
  },
  {
   "cell_type": "code",
   "execution_count": null,
   "id": "38f321a4-2187-4329-9cb4-02718216f589",
   "metadata": {},
   "outputs": [],
   "source": [
    "g_trends_ov"
   ]
  },
  {
   "cell_type": "code",
   "execution_count": null,
   "id": "a46842db-561e-46a7-9e16-9f72c2e70c3e",
   "metadata": {
    "tags": []
   },
   "outputs": [],
   "source": [
    "# data_g_trends[data_g_trends['shortness_of_breath'].isna()]"
   ]
  },
  {
   "cell_type": "code",
   "execution_count": null,
   "id": "8b61ac25-9cb6-4363-a426-0b16f6ed8ed0",
   "metadata": {},
   "outputs": [],
   "source": [
    "\n",
    "\n",
    "# TODO\n",
    "# complete data\n",
    "# change kw translations manually and get data\n",
    "# interpolation\n",
    "\n",
    "\n"
   ]
  },
  {
   "cell_type": "code",
   "execution_count": null,
   "id": "1dca2256-49c4-4eb2-8877-58ef7bc1e765",
   "metadata": {},
   "outputs": [],
   "source": []
  },
  {
   "cell_type": "markdown",
   "id": "80318b4c-cde6-4982-99c3-784101b29bd2",
   "metadata": {},
   "source": [
    "### 2.4 twitter trends data"
   ]
  },
  {
   "cell_type": "code",
   "execution_count": null,
   "id": "d1b2dea9-8843-4aa8-b490-de4b8d205953",
   "metadata": {},
   "outputs": [],
   "source": []
  },
  {
   "cell_type": "markdown",
   "id": "8a2a9ac3-60a9-447f-b153-ffd9875c75b2",
   "metadata": {},
   "source": [
    "### 2.5 Covid-19 data"
   ]
  },
  {
   "cell_type": "code",
   "execution_count": null,
   "id": "fcbaca29-137c-43eb-ac19-8e53d64b9d9f",
   "metadata": {},
   "outputs": [],
   "source": []
  },
  {
   "cell_type": "markdown",
   "id": "6b456edc-b1a2-49a6-ade4-d60f2ca2b359",
   "metadata": {},
   "source": [
    "### 2.5.1 feature elimination"
   ]
  },
  {
   "cell_type": "code",
   "execution_count": null,
   "id": "7cddadc0-3b51-4fc6-ae49-375a610ebf3c",
   "metadata": {},
   "outputs": [],
   "source": [
    "# getting subset of row with data of the target countries\n",
    "countries_iso3 = [cn[2] for cn in tgt_countries.values()]\n",
    "data_c19 = owid_covid_data[owid_covid_data['iso_code'].isin(countries_iso3)]\n",
    "\n",
    "# dropping unneccessary columns\n",
    "data_c19 = data_c19[['iso_code', 'date', 'new_cases_smoothed', \n",
    "                     'new_deaths_smoothed', 'new_cases_smoothed_per_million', 'new_deaths_smoothed_per_million', \n",
    "                     'icu_patients', 'icu_patients_per_million', 'hosp_patients', \n",
    "                     'hosp_patients_per_million', 'positive_rate']]\n",
    "\n",
    "# convert 'date' column to datetime\n",
    "data_c19['date'] = pd.to_datetime(data_c19['date'], errors='coerce')\n",
    "data_c19['date'] = data_c19['date'].dt.date\n",
    "\n",
    "data_c19['date'].isna().sum()\n"
   ]
  },
  {
   "cell_type": "code",
   "execution_count": null,
   "id": "5bdaa160-99f3-4e29-9977-e9af4cfb695a",
   "metadata": {},
   "outputs": [],
   "source": []
  },
  {
   "cell_type": "markdown",
   "id": "8d7a39e6-d38f-4e6b-a61e-b81119c4f1b5",
   "metadata": {},
   "source": [
    "### 2.5.2. data wrangling"
   ]
  },
  {
   "cell_type": "code",
   "execution_count": null,
   "id": "1643d72e-53d8-4f89-bab7-5cfa1386aa65",
   "metadata": {},
   "outputs": [],
   "source": [
    "# rename column iso_code\n",
    "c19_columns = list(data_c19.columns.values)\n",
    "c19_new_columns = {col:col for col in c19_columns}\n",
    "c19_new_columns['iso_code'] = 'location'\n",
    "\n",
    "data_c19 = data_c19.rename(columns=c19_new_columns)"
   ]
  },
  {
   "cell_type": "code",
   "execution_count": null,
   "id": "3b4b6e85-8f8f-40af-a6e0-787ae83cbc48",
   "metadata": {},
   "outputs": [],
   "source": [
    "# check if range of dates is complete for all countries\n",
    "c19_timeframe = timeframe_check_by_group(df=data_c19, groupby='location', timeframe='date')\n"
   ]
  },
  {
   "cell_type": "code",
   "execution_count": null,
   "id": "55d8eb20-d81c-4ca4-af5e-82baa2980560",
   "metadata": {},
   "outputs": [],
   "source": [
    "c19_timeframe"
   ]
  },
  {
   "cell_type": "code",
   "execution_count": null,
   "id": "6489e74b-aad0-450c-9b3b-691031c2a35c",
   "metadata": {},
   "outputs": [],
   "source": [
    "# picking only df entries between Mar 2020 and Oct 2021\n",
    "data_c19 = df_timeframe_limit(data_c19, 'date', '2020-03-01', '2021-10-31')\n",
    "\n",
    "c19_timeframe = timeframe_check_by_group(df=data_c19, groupby='location', timeframe='date')\n"
   ]
  },
  {
   "cell_type": "code",
   "execution_count": null,
   "id": "879932c1-86b3-4aa4-8cd8-b6646be814aa",
   "metadata": {},
   "outputs": [],
   "source": [
    "c19_timeframe"
   ]
  },
  {
   "cell_type": "code",
   "execution_count": null,
   "id": "16e9da8d-e8c1-44a4-ae49-f5b913ffb1d5",
   "metadata": {},
   "outputs": [],
   "source": [
    "c19_ov, c19_columns = value_overview(df=data_c19, neg_allowed=True)"
   ]
  },
  {
   "cell_type": "code",
   "execution_count": null,
   "id": "296d7f3b-7291-409b-a142-c62d32c43533",
   "metadata": {},
   "outputs": [],
   "source": [
    "c19_ov"
   ]
  },
  {
   "cell_type": "code",
   "execution_count": null,
   "id": "21b45b17-a844-4c76-b561-def8fd3aebbb",
   "metadata": {},
   "outputs": [],
   "source": [
    "from pyf.preprocessing import complete_timeseries\n",
    "\n",
    "# adding dates to data from loc 'POL' to have the same dates for all loc\n",
    "data_pol = data_c19[data_c19['location'] == 'POL']\n",
    "\n",
    "data_pol = complete_timeseries(df=data_pol, timeframe='date', start_date='2020 03 01', end_date='2021 10 31', constant_col=['location'])\n",
    "\n",
    "# concating original df and new data for loc 'POL'\n",
    "data_c19 = data_c19[data_c19['location'] != 'POL']\n",
    "data_c19 = pd.concat([data_c19, data_pol], axis=0)"
   ]
  },
  {
   "cell_type": "code",
   "execution_count": null,
   "id": "ec2d4816-0ee3-4c65-9327-07574af9fdec",
   "metadata": {},
   "outputs": [],
   "source": [
    "data_c19.info()"
   ]
  },
  {
   "cell_type": "code",
   "execution_count": null,
   "id": "d0fe33c0-d509-42b9-b9ba-32d1991d44bf",
   "metadata": {},
   "outputs": [],
   "source": []
  },
  {
   "cell_type": "markdown",
   "id": "b77af524-8d94-45b1-8526-c190522ec80d",
   "metadata": {},
   "source": [
    "### 2.5.3 handling null values"
   ]
  },
  {
   "cell_type": "code",
   "execution_count": null,
   "id": "2a1f9be1-8206-4bee-a6b2-58b3bfff11f8",
   "metadata": {
    "tags": []
   },
   "outputs": [],
   "source": [
    "data_c19[data_c19['new_cases_smoothed'].isna()]"
   ]
  },
  {
   "cell_type": "markdown",
   "id": "eb6175a6-2d43-4d7f-995c-7355bcbb33ad",
   "metadata": {},
   "source": [
    "**Conclusion**\n",
    "\n",
    "Interpolation is the most valid method of dealing with null values. It's not going to produce good estimates though, since the null values are consequtive and occure at the beginning of the time series."
   ]
  },
  {
   "cell_type": "code",
   "execution_count": null,
   "id": "2b01473b-2eb5-4726-a7b7-939b081e5a81",
   "metadata": {},
   "outputs": [],
   "source": [
    "\n",
    "    \n",
    "\n"
   ]
  },
  {
   "cell_type": "code",
   "execution_count": null,
   "id": "caeb53b1-62aa-4d60-8324-d70841bbb147",
   "metadata": {},
   "outputs": [],
   "source": [
    "# interpolating null values for all loc\n",
    "c19_full = timeseries_interpolation_clustered(df=data_c19, timeframe='date', cluster_by='location', method='backfill', limit_direction='backward')\n",
    "\n",
    "\n",
    "\n",
    "\n",
    "# TODO: instert first NaN manually and change interpol method to poly and check for difference\n"
   ]
  },
  {
   "cell_type": "code",
   "execution_count": null,
   "id": "a7142b77-ddd8-47c2-b68c-f56547bc6095",
   "metadata": {},
   "outputs": [],
   "source": [
    "c19_full.head()"
   ]
  },
  {
   "cell_type": "code",
   "execution_count": null,
   "id": "de84aad2-b7c5-4d4f-876a-48c997dec2c8",
   "metadata": {},
   "outputs": [],
   "source": [
    "c19_full.isna().sum()"
   ]
  },
  {
   "cell_type": "code",
   "execution_count": null,
   "id": "7bc6c688-73f3-44b8-a172-9fd5e35719fc",
   "metadata": {},
   "outputs": [],
   "source": [
    "#"
   ]
  },
  {
   "cell_type": "code",
   "execution_count": null,
   "id": "dea12ff2-6486-4a8e-bd6d-c807039045bc",
   "metadata": {},
   "outputs": [],
   "source": [
    "# from pyf.preprocessing import timeseries_plot\n",
    "\n",
    "# plot_pol = timeseries_plot(data_c19, 'date', 'location', 'DEU')"
   ]
  },
  {
   "cell_type": "code",
   "execution_count": null,
   "id": "c4faf651-8726-4c68-83d9-c98ad4dcf0e3",
   "metadata": {},
   "outputs": [],
   "source": []
  },
  {
   "cell_type": "markdown",
   "id": "25b06efc-001b-40ea-86ea-a9d63886e506",
   "metadata": {},
   "source": [
    "### 2.6. data merging for modeling"
   ]
  },
  {
   "cell_type": "code",
   "execution_count": null,
   "id": "03880221-eb50-49fc-8e41-09d677432ef9",
   "metadata": {},
   "outputs": [],
   "source": [
    "# merging google mobility data with target variables\n",
    "\n",
    "g_mob_full['date'] = pd.to_datetime(g_mob_full['date'], errors='coerce')\n",
    "c19_full['date'] = pd.to_datetime(c19_full['date'], errors='coerce')\n",
    "\n",
    "g_mob_covid = pd.merge(g_mob_full, c19_full, how='inner', on=['date', 'location'])"
   ]
  },
  {
   "cell_type": "code",
   "execution_count": null,
   "id": "829b1e9c-3e73-423a-bb13-3220b911a361",
   "metadata": {},
   "outputs": [],
   "source": [
    "g_mob_covid.head()"
   ]
  },
  {
   "cell_type": "code",
   "execution_count": null,
   "id": "69ea7470-6430-4fdb-b2e9-58325c5ee5c9",
   "metadata": {},
   "outputs": [],
   "source": [
    "\n",
    "# temporary subset google trends\n",
    "\n",
    "g_trends_temp = data_g_trends[['date', 'location', 'covid', 'corona', 'virus', 'symptoms', 'fever', 'headache', 'test', 'sick', 'infection']]\n",
    "\n",
    "countries_temp = list(g_trends_temp['location'].unique())\n",
    "\n",
    "# temporary subset covid 19 to work with g trends\n",
    "\n",
    "c19_temp = c19_full[c19_full['location'].isin(countries_temp)]\n",
    "\n",
    "# merge\n",
    "\n",
    "g_trends_temp['date'] = pd.to_datetime(g_trends_temp['date'], errors='coerce')\n",
    "c19_temp['date'] = pd.to_datetime(c19_temp['date'], errors='coerce')\n",
    "\n",
    "g_trends_covid = pd.merge(g_trends_temp, c19_temp, how='inner', on=['date', 'location'])\n"
   ]
  },
  {
   "cell_type": "code",
   "execution_count": null,
   "id": "b96a5778-a29c-4c62-8e95-e0884ebd3a7f",
   "metadata": {},
   "outputs": [],
   "source": [
    "g_trends_covid.head()"
   ]
  },
  {
   "cell_type": "code",
   "execution_count": null,
   "id": "456833e8-6fd8-4867-bead-009067394fc3",
   "metadata": {},
   "outputs": [],
   "source": [
    "# TODO\n",
    "\n",
    "# merging other data with target variables\n"
   ]
  },
  {
   "cell_type": "code",
   "execution_count": null,
   "id": "f187bea2-09e7-4084-84cb-2c5601a6e9d6",
   "metadata": {},
   "outputs": [],
   "source": []
  },
  {
   "cell_type": "code",
   "execution_count": null,
   "id": "49df5cd6-48ea-44fa-814d-bb278b366136",
   "metadata": {},
   "outputs": [],
   "source": []
  },
  {
   "cell_type": "markdown",
   "id": "0f2b78b7-8fdf-4a5f-a4e4-4661e2e59b63",
   "metadata": {},
   "source": [
    "# 3 | EDA\n",
    "\n",
    "### 3.1 overview of numerical features"
   ]
  },
  {
   "cell_type": "markdown",
   "id": "02b5bbcd-321b-48da-b8e8-3baa9734f468",
   "metadata": {},
   "source": [
    "### 3.1.1 google mobility data"
   ]
  },
  {
   "cell_type": "code",
   "execution_count": null,
   "id": "10817561-2252-4053-b4d0-97fc731dddb9",
   "metadata": {},
   "outputs": [],
   "source": [
    "g_mob_full.describe().T"
   ]
  },
  {
   "cell_type": "code",
   "execution_count": null,
   "id": "085f7f87-225f-49db-a73e-0433983e5f23",
   "metadata": {},
   "outputs": [],
   "source": []
  },
  {
   "cell_type": "markdown",
   "id": "dfb89a57-3330-4fda-9da5-238e3d6af898",
   "metadata": {},
   "source": [
    "### 3.1.2 facebook mobility data"
   ]
  },
  {
   "cell_type": "code",
   "execution_count": null,
   "id": "c78aea59-c038-448d-944d-15a0734489a0",
   "metadata": {},
   "outputs": [],
   "source": []
  },
  {
   "cell_type": "code",
   "execution_count": null,
   "id": "7a1341d3-9372-45f9-bba8-62b305a40a61",
   "metadata": {},
   "outputs": [],
   "source": []
  },
  {
   "cell_type": "markdown",
   "id": "2ba5a3d4-76a2-4998-a462-c6cdd71c944a",
   "metadata": {},
   "source": [
    "### 3.1.3 google trends data"
   ]
  },
  {
   "cell_type": "code",
   "execution_count": null,
   "id": "96d72171-5143-4bb5-be51-f39f85936a60",
   "metadata": {},
   "outputs": [],
   "source": [
    "g_trends_temp.describe().T"
   ]
  },
  {
   "cell_type": "code",
   "execution_count": null,
   "id": "43bcbc2f-d5b0-49a4-a6dc-96044be54b70",
   "metadata": {},
   "outputs": [],
   "source": []
  },
  {
   "cell_type": "markdown",
   "id": "5e9299f4-c657-4a2b-94c9-97aed64daee8",
   "metadata": {},
   "source": [
    "### 3.1.4 twitter trends data"
   ]
  },
  {
   "cell_type": "code",
   "execution_count": null,
   "id": "8035e6d1-7cf5-4de3-a04f-8d13876efd6f",
   "metadata": {},
   "outputs": [],
   "source": []
  },
  {
   "cell_type": "code",
   "execution_count": null,
   "id": "56a90a00-af0c-4e6d-9706-ca8cc4e9a511",
   "metadata": {},
   "outputs": [],
   "source": []
  },
  {
   "cell_type": "markdown",
   "id": "bf02100e-c2e2-48f8-92f8-4d02c64d8fa7",
   "metadata": {},
   "source": [
    "### 3.1.5 covid 19 data"
   ]
  },
  {
   "cell_type": "code",
   "execution_count": null,
   "id": "51e30621-84e5-498b-a1cb-cc2f68067c76",
   "metadata": {},
   "outputs": [],
   "source": [
    "c19_full.describe().T"
   ]
  },
  {
   "cell_type": "code",
   "execution_count": null,
   "id": "ad76b0e7-44dc-4b37-9100-25bcb6095b96",
   "metadata": {},
   "outputs": [],
   "source": []
  },
  {
   "cell_type": "code",
   "execution_count": null,
   "id": "8ca4e906-4fca-49d2-81bd-afed208bc212",
   "metadata": {},
   "outputs": [],
   "source": []
  },
  {
   "cell_type": "markdown",
   "id": "fba4b188-5716-464a-ace2-aa8658f763d5",
   "metadata": {},
   "source": [
    "### 3.2 correlations"
   ]
  },
  {
   "cell_type": "markdown",
   "id": "55f117fb-e8cb-4c3e-898b-2ca34fea5546",
   "metadata": {},
   "source": [
    "### 3.2.1 google mobility data"
   ]
  },
  {
   "cell_type": "code",
   "execution_count": null,
   "id": "865a7013-2d33-45e6-be3f-f4083113baee",
   "metadata": {},
   "outputs": [],
   "source": [
    "from pyf.eda import show_heatmap\n",
    "\n",
    "# correlation heatmap\n",
    "show_heatmap(g_mob_covid, 14, 12, title='correlations: google mobility & covid 19 data')\n"
   ]
  },
  {
   "cell_type": "code",
   "execution_count": null,
   "id": "9b8d1c2c-2b25-45c2-8f94-8f847f811274",
   "metadata": {},
   "outputs": [],
   "source": [
    "# Paired density and scatterplot matrix\n",
    "\n",
    "# pgrid_1 = sns.PairGrid(g_mob_covid, diag_sharey=False)\n",
    "# pgrid_1.map_upper(sns.scatterplot, s=15)\n",
    "# pgrid_1.map_lower(sns.kdeplot)\n",
    "# pgrid_1.map_diag(sns.kdeplot, lw=2)"
   ]
  },
  {
   "cell_type": "code",
   "execution_count": null,
   "id": "80792bcb-5339-466b-b02d-3205365ceac3",
   "metadata": {},
   "outputs": [],
   "source": []
  },
  {
   "cell_type": "markdown",
   "id": "04ab376d-be47-483d-8640-6afc8d83d14b",
   "metadata": {},
   "source": [
    "### 3.2.2 facebook mobility data"
   ]
  },
  {
   "cell_type": "code",
   "execution_count": null,
   "id": "1ac08d20-e4bd-4024-a421-ac668682dc61",
   "metadata": {},
   "outputs": [],
   "source": []
  },
  {
   "cell_type": "code",
   "execution_count": null,
   "id": "cc90aed7-1f3b-445e-82c4-b1ad6887fdb0",
   "metadata": {},
   "outputs": [],
   "source": []
  },
  {
   "cell_type": "markdown",
   "id": "8ce220b3-46fe-4d5a-9f41-fb68fb5d973c",
   "metadata": {},
   "source": [
    "### 3.2.3 google trends data"
   ]
  },
  {
   "cell_type": "code",
   "execution_count": null,
   "id": "bfe1d5f5-9413-41fb-8bc8-f97acb47211e",
   "metadata": {},
   "outputs": [],
   "source": [
    "# correlation heatmap\n",
    "show_heatmap(g_trends_covid, 14, 12, title='correlations: google trends & covid 19 data')"
   ]
  },
  {
   "cell_type": "code",
   "execution_count": null,
   "id": "ffb08ff0-33e3-440a-bddc-3a3ba0557c2e",
   "metadata": {},
   "outputs": [],
   "source": []
  },
  {
   "cell_type": "code",
   "execution_count": null,
   "id": "5fce34ce-966f-4025-ad16-1f53ec43b31a",
   "metadata": {},
   "outputs": [],
   "source": []
  },
  {
   "cell_type": "markdown",
   "id": "36ba0524-860d-4721-aaef-f908d173b287",
   "metadata": {},
   "source": [
    "### 3.2.4 twitter trends data"
   ]
  },
  {
   "cell_type": "code",
   "execution_count": null,
   "id": "43cb8062-2e2d-446f-8523-36e59e8f7346",
   "metadata": {},
   "outputs": [],
   "source": []
  },
  {
   "cell_type": "code",
   "execution_count": null,
   "id": "6e72998d-87e3-4997-8875-4ef58b1cfde5",
   "metadata": {},
   "outputs": [],
   "source": []
  },
  {
   "cell_type": "markdown",
   "id": "16bbfd86-2032-43ed-90dc-c56249aa5d7e",
   "metadata": {},
   "source": [
    "### 3.2.5 covid 19 data"
   ]
  },
  {
   "cell_type": "code",
   "execution_count": null,
   "id": "c82efaf4-4100-45db-91a5-9c7b70e61f1f",
   "metadata": {},
   "outputs": [],
   "source": [
    "# correlation heatmap\n",
    "show_heatmap(c19_full, 10, 8, title='correlations: covid 19 data')\n"
   ]
  },
  {
   "cell_type": "code",
   "execution_count": null,
   "id": "3876047a-c63a-439a-93e0-cecd40a64b46",
   "metadata": {},
   "outputs": [],
   "source": []
  },
  {
   "cell_type": "markdown",
   "id": "570a3e5b-9224-49a4-bb9f-3e6953494350",
   "metadata": {},
   "source": [
    "### 3.3 visual exploration"
   ]
  },
  {
   "cell_type": "markdown",
   "id": "cb916738-1d7d-433d-aae9-da89699b7867",
   "metadata": {},
   "source": [
    "### 3.3.1 google mobility data"
   ]
  },
  {
   "cell_type": "code",
   "execution_count": null,
   "id": "4e7893dd-cd18-41d7-91e2-a8fa4efa8712",
   "metadata": {},
   "outputs": [],
   "source": [
    "\n",
    "\n",
    "def plot_timeseries(df, timeframe, w, h, title=''):\n",
    "    # transform df to get a line for each col\n",
    "    df = df.melt(timeframe, var_name='columns', value_name='vals')\n",
    "    # plot\n",
    "    custom_params = {\"axes.spines.right\": False, \"axes.spines.top\": False, \"axes.spines.left\": False}\n",
    "    sns.set(rc={'figure.figsize':(w,h)})\n",
    "    sns.set_theme(style=\"whitegrid\", rc=custom_params)\n",
    "    sns.lineplot(x=timeframe, y=\"vals\", hue='columns', data=df).set_title('\\n' + title + '\\n', fontsize=16)\n",
    "    \n",
    "    #axes = plt.gca()\n",
    "    #axes.yaxis.grid()\n",
    "    plt.xlabel('')\n",
    "    plt.ylabel('')\n",
    "    plt.xticks(rotation=45, ha='right')\n",
    "    plt.show()\n",
    "\n",
    "\n",
    "# TO DO\n",
    "# daily > weelky data for plots\n",
    "# removes v grid lines\n",
    "# plot in different ways (by country, c19 data only features together with similar scales, ...)\n",
    "    \n",
    "    \n",
    "# Plot the responses for different events and regions\n",
    "\n",
    "\n"
   ]
  },
  {
   "cell_type": "code",
   "execution_count": null,
   "id": "2d5014cf-dada-496f-864e-987c4c558e18",
   "metadata": {},
   "outputs": [],
   "source": [
    "g_mob_plotting = g_mob_full[g_mob_full['location'] == 'DEU']\n",
    "g_mob_plotting = g_mob_plotting.drop(['location'], axis=1)\n",
    "\n",
    "plot_timeseries(g_mob_plotting, 'date', 18, 6, 'google mobility data over time')"
   ]
  },
  {
   "cell_type": "code",
   "execution_count": null,
   "id": "8a3945e3-eb4f-414c-b234-833a77c15449",
   "metadata": {},
   "outputs": [],
   "source": []
  },
  {
   "cell_type": "code",
   "execution_count": null,
   "id": "200412c0-1382-43ac-8900-dab80aeb4400",
   "metadata": {},
   "outputs": [],
   "source": []
  },
  {
   "cell_type": "markdown",
   "id": "a33a1d3a-414e-4bd7-835a-424e3f9d22f9",
   "metadata": {},
   "source": [
    "### 3.3.2 facebook mobility data"
   ]
  },
  {
   "cell_type": "code",
   "execution_count": null,
   "id": "f9169df1-c5b1-41aa-8f6f-7cfae34e4d41",
   "metadata": {},
   "outputs": [],
   "source": []
  },
  {
   "cell_type": "code",
   "execution_count": null,
   "id": "6cb9d653-7dcf-4cae-89bb-95f026d2fef2",
   "metadata": {},
   "outputs": [],
   "source": []
  },
  {
   "cell_type": "markdown",
   "id": "e373e6aa-713c-4fa5-b2d1-fb2649b0e344",
   "metadata": {},
   "source": [
    "### 3.3.3 google trends data"
   ]
  },
  {
   "cell_type": "code",
   "execution_count": null,
   "id": "70ab8773-fd5d-47c1-ac71-df8caa1a6632",
   "metadata": {},
   "outputs": [],
   "source": [
    "g_trends_plotting = g_trends_temp[g_trends_temp['location'] == 'DEU']\n",
    "g_trends_plotting = g_trends_plotting.drop(['location'], axis=1)\n",
    "\n",
    "plot_timeseries(g_trends_plotting, 'date', 18, 6)"
   ]
  },
  {
   "cell_type": "code",
   "execution_count": null,
   "id": "e1edfc16-23b8-4115-b2e5-1a127fa71836",
   "metadata": {},
   "outputs": [],
   "source": []
  },
  {
   "cell_type": "code",
   "execution_count": null,
   "id": "4b975160-92fb-4313-9523-08560b768e59",
   "metadata": {},
   "outputs": [],
   "source": []
  },
  {
   "cell_type": "markdown",
   "id": "11ed420a-ccac-4a9b-94fe-af810b6360c4",
   "metadata": {},
   "source": [
    "### 3.3.4 twitter trends data"
   ]
  },
  {
   "cell_type": "code",
   "execution_count": null,
   "id": "20da8f0e-09c9-4c35-a778-2418cf00b7f8",
   "metadata": {},
   "outputs": [],
   "source": []
  },
  {
   "cell_type": "code",
   "execution_count": null,
   "id": "6ba83226-ee5e-44d3-8a03-3927dace5bef",
   "metadata": {},
   "outputs": [],
   "source": []
  },
  {
   "cell_type": "markdown",
   "id": "56db4919-4986-4114-a624-83663df052cd",
   "metadata": {},
   "source": [
    "### 3.3.5 covid 19 data"
   ]
  },
  {
   "cell_type": "code",
   "execution_count": null,
   "id": "8232570d-b10f-4c45-812e-3f064f681791",
   "metadata": {},
   "outputs": [],
   "source": [
    "c19_plotting = c19_full[c19_full['location'] == 'DEU']\n",
    "c19_plotting = c19_plotting.drop(['location'], axis=1)\n",
    "\n",
    "plot_timeseries(c19_plotting, 'date', 18, 6, 'covid 19 data over time')"
   ]
  },
  {
   "cell_type": "code",
   "execution_count": null,
   "id": "f889fbfa-95b1-4f28-a9b6-2e96a4038c8a",
   "metadata": {},
   "outputs": [],
   "source": []
  },
  {
   "cell_type": "code",
   "execution_count": null,
   "id": "8116bf38-30d1-40ce-8780-abe1ba068016",
   "metadata": {},
   "outputs": [],
   "source": []
  },
  {
   "cell_type": "markdown",
   "id": "9adda859-34ae-4d25-a3a6-c56abccc56f2",
   "metadata": {},
   "source": [
    "# 4 | data preprocessing\n",
    "\n",
    "### 4.1 mobility data"
   ]
  },
  {
   "cell_type": "markdown",
   "id": "c5d33ae7-f750-4dba-981c-c0b635387f4f",
   "metadata": {},
   "source": [
    "### 4.1.1 feature selection"
   ]
  },
  {
   "cell_type": "code",
   "execution_count": null,
   "id": "09072e2a-9e87-458f-b7da-0d545e033c9a",
   "metadata": {},
   "outputs": [],
   "source": [
    "from pyf.preprocessing import timeseries_clustered_sma, df_date_to_season\n",
    "\n",
    "# add columns with simple moving averages (5 days) of features\n",
    "sma_columns = list(g_mob_full.select_dtypes(np.number).columns)\n",
    "g_mob_covid = timeseries_clustered_sma(df=g_mob_covid, columns=sma_columns, cluster_by='location', timeframe='date', nod=5)\n",
    "\n",
    "# add season column\n",
    "g_mob_covid = df_date_to_season(g_mob_covid, 'date')\n"
   ]
  },
  {
   "cell_type": "code",
   "execution_count": null,
   "id": "ef566aa8-65d0-4353-aed3-2dceb4c57252",
   "metadata": {},
   "outputs": [],
   "source": []
  },
  {
   "cell_type": "code",
   "execution_count": null,
   "id": "8eea2809-5175-48b7-a774-6c4d9da94c0d",
   "metadata": {},
   "outputs": [],
   "source": [
    "# TODO\n",
    "\n",
    "# feature additions: add rolling averages of daily features to smooth out fluctuations (5d, 10d ?), season \n",
    "# feature selection: corr, p-value, VIF, chi2 ?, ... ?\n",
    "\n",
    "# f engineering\n",
    "# f encoding (season)"
   ]
  },
  {
   "cell_type": "code",
   "execution_count": null,
   "id": "07c0f66a-072a-4923-aa8c-ec1a04ad4b45",
   "metadata": {},
   "outputs": [],
   "source": [
    "c19_full.select_dtypes(np.number).columns"
   ]
  },
  {
   "cell_type": "code",
   "execution_count": null,
   "id": "fa65b63b-b6b6-4872-b12b-51f34cf64b27",
   "metadata": {},
   "outputs": [],
   "source": []
  },
  {
   "cell_type": "code",
   "execution_count": null,
   "id": "a63e684d-6ed5-4e1a-a13c-31bdf806f328",
   "metadata": {},
   "outputs": [],
   "source": []
  },
  {
   "cell_type": "code",
   "execution_count": null,
   "id": "0878fb6a-8f3b-4c62-9d16-9ca887e326d2",
   "metadata": {},
   "outputs": [],
   "source": []
  }
 ],
 "metadata": {
  "kernelspec": {
   "display_name": "Python3Brew",
   "language": "python",
   "name": "python3brew"
  },
  "language_info": {
   "codemirror_mode": {
    "name": "ipython",
    "version": 3
   },
   "file_extension": ".py",
   "mimetype": "text/x-python",
   "name": "python",
   "nbconvert_exporter": "python",
   "pygments_lexer": "ipython3",
   "version": "3.9.4"
  }
 },
 "nbformat": 4,
 "nbformat_minor": 5
}
